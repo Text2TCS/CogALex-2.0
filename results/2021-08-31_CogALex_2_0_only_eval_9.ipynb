{
 "cells": [
  {
   "cell_type": "markdown",
   "id": "dense-surprise",
   "metadata": {
    "tags": [
     "papermill-error-cell-tag"
    ]
   },
   "source": [
    "<span style=\"color:red; font-family:Helvetica Neue, Helvetica, Arial, sans-serif; font-size:2em;\">An Exception was encountered at '<a href=\"#papermill-error-cell\">In [11]</a>'.</span>"
   ]
  },
  {
   "cell_type": "code",
   "execution_count": 1,
   "id": "superior-digest",
   "metadata": {
    "execution": {
     "iopub.execute_input": "2021-09-01T17:07:58.674180Z",
     "iopub.status.busy": "2021-09-01T17:07:58.665762Z",
     "iopub.status.idle": "2021-09-01T17:07:58.677548Z",
     "shell.execute_reply": "2021-09-01T17:07:58.676995Z"
    },
    "id": "NOPoh0wg5Fds",
    "papermill": {
     "duration": 0.097089,
     "end_time": "2021-09-01T17:07:58.677699",
     "exception": false,
     "start_time": "2021-09-01T17:07:58.580610",
     "status": "completed"
    },
    "tags": [
     "parameters"
    ]
   },
   "outputs": [],
   "source": [
    "# Add \"parameters\" (jupyter-notebook) tag to this cell, to allow papermill to inject different parameters\n",
    "from datetime import date\n",
    "it=0  #Iteration of gridsearch\n",
    "# to put it all in one folder by date, will be replaced by papermill\n",
    "today=date.today() \n",
    "rdate=today.strftime(\"%Y-%m-%d\")\n",
    "rdate=\"2021-08-31\"\n",
    "# Training Params\n",
    "best_runs = []\n",
    "training_stats = {}\n",
    "epochs = 15\n",
    "loops = 5"
   ]
  },
  {
   "cell_type": "code",
   "execution_count": 2,
   "id": "extra-consciousness",
   "metadata": {
    "execution": {
     "iopub.execute_input": "2021-09-01T17:07:58.743351Z",
     "iopub.status.busy": "2021-09-01T17:07:58.742755Z",
     "iopub.status.idle": "2021-09-01T17:07:58.746346Z",
     "shell.execute_reply": "2021-09-01T17:07:58.745762Z"
    },
    "papermill": {
     "duration": 0.037085,
     "end_time": "2021-09-01T17:07:58.746461",
     "exception": false,
     "start_time": "2021-09-01T17:07:58.709376",
     "status": "completed"
    },
    "tags": [
     "injected-parameters"
    ]
   },
   "outputs": [],
   "source": [
    "# Parameters\n",
    "it = 8\n",
    "rdate = \"2021-08-31\"\n"
   ]
  },
  {
   "cell_type": "code",
   "execution_count": 3,
   "id": "wooden-nepal",
   "metadata": {
    "colab": {
     "base_uri": "https://localhost:8080/"
    },
    "execution": {
     "iopub.execute_input": "2021-09-01T17:07:58.809920Z",
     "iopub.status.busy": "2021-09-01T17:07:58.807332Z",
     "iopub.status.idle": "2021-09-01T17:07:58.814534Z",
     "shell.execute_reply": "2021-09-01T17:07:58.814048Z"
    },
    "id": "_s6ftVJn_B91",
    "outputId": "11e6e76a-e563-45bf-a416-f0890388311a",
    "papermill": {
     "duration": 0.041042,
     "end_time": "2021-09-01T17:07:58.814647",
     "exception": false,
     "start_time": "2021-09-01T17:07:58.773605",
     "status": "completed"
    },
    "tags": []
   },
   "outputs": [
    {
     "name": "stdout",
     "output_type": "stream",
     "text": [
      "Not running on CoLab\n"
     ]
    }
   ],
   "source": [
    "# See if running on Colab (for setting the correct workdir and installing all dependencies)\n",
    "if 'google.colab' in str(get_ipython()):\n",
    "  print('Running on CoLab')\n",
    "  g_colab = True\n",
    "else:\n",
    "  print('Not running on CoLab')\n",
    "  g_colab = False"
   ]
  },
  {
   "cell_type": "code",
   "execution_count": 4,
   "id": "identical-oxford",
   "metadata": {
    "colab": {
     "base_uri": "https://localhost:8080/"
    },
    "execution": {
     "iopub.execute_input": "2021-09-01T17:07:58.885923Z",
     "iopub.status.busy": "2021-09-01T17:07:58.874565Z",
     "iopub.status.idle": "2021-09-01T17:07:59.700831Z",
     "shell.execute_reply": "2021-09-01T17:07:59.701328Z"
    },
    "id": "kTJohs4ytYsF",
    "outputId": "fdbc0901-c9c4-4597-e2e2-dea5f691c1d7",
    "papermill": {
     "duration": 0.860913,
     "end_time": "2021-09-01T17:07:59.701483",
     "exception": false,
     "start_time": "2021-09-01T17:07:58.840570",
     "status": "completed"
    },
    "tags": []
   },
   "outputs": [
    {
     "name": "stdout",
     "output_type": "stream",
     "text": [
      "18\n",
      "{'datasets': ['old'], 'model_name': 'xlm-roberta-large'}\n"
     ]
    }
   ],
   "source": [
    "# connect to drive\n",
    "if g_colab:\n",
    "    from google.colab import drive\n",
    "    drive.mount('/gdrive')\n",
    "    %cd \"/gdrive/MyDrive/1 Job/Product and Code/CogAlex 2.0/\"\n",
    "\n",
    "# Choose model\n",
    "# Gridsearch parameters\n",
    "from sklearn.model_selection import ParameterGrid\n",
    "\n",
    "# Original results with \"xlm_roberta_base\"\n",
    "grid = [{\"model_name\": [\"xlm-roberta-base\"],\n",
    "        \"datasets\": [[\"old\"], [\"de_train_new\", \"de_val_new\"], [\"de_train_new\"], [\"de_val_new\"],\n",
    "                      [\"en_train_new\", \"en_val_new\"], [\"en_train_new\"], [\"en_val_new\"], \n",
    "                      [\"de_train_new\", \"de_val_new\",\"en_train_new\", \"en_val_new\"]]},\n",
    "        {\"model_name\": [\"xlm-roberta-large\", \"distilbert-base-multilingual-cased\", \"bert-base-multilingual-uncased\", \"bert-base-multilingual-cased\", \"roberta-base\"],\n",
    "        \"datasets\": [[\"old\"], [\"de_train_new\", \"de_val_new\",\"en_train_new\", \"en_val_new\"]]}]\n",
    "\n",
    "pg = list(ParameterGrid(grid))\n",
    "print(len(pg))\n",
    "model_name = pg[it][\"model_name\"]\n",
    "datasets = pg[it][\"datasets\"]\n",
    "print(pg[it])"
   ]
  },
  {
   "cell_type": "markdown",
   "id": "floppy-compromise",
   "metadata": {
    "papermill": {
     "duration": 0.025581,
     "end_time": "2021-09-01T17:07:59.753721",
     "exception": false,
     "start_time": "2021-09-01T17:07:59.728140",
     "status": "completed"
    },
    "tags": []
   },
   "source": [
    "# Manually set parameters"
   ]
  },
  {
   "cell_type": "code",
   "execution_count": 5,
   "id": "invalid-monday",
   "metadata": {
    "execution": {
     "iopub.execute_input": "2021-09-01T17:07:59.810888Z",
     "iopub.status.busy": "2021-09-01T17:07:59.810033Z",
     "iopub.status.idle": "2021-09-01T17:08:00.604601Z",
     "shell.execute_reply": "2021-09-01T17:08:00.605270Z"
    },
    "papermill": {
     "duration": 0.826095,
     "end_time": "2021-09-01T17:08:00.605445",
     "exception": false,
     "start_time": "2021-09-01T17:07:59.779350",
     "status": "completed"
    },
    "scrolled": true,
    "tags": []
   },
   "outputs": [
    {
     "name": "stdout",
     "output_type": "stream",
     "text": [
      "Using GPU for inference\n",
      "GeForce GTX 1080\n"
     ]
    }
   ],
   "source": [
    "# Savedir\n",
    "import os\n",
    "savedir = f\"./{rdate}/averages/{model_name}_{it}_{datasets}\"\n",
    "if g_colab:\n",
    "    workdir = os.getcwd()\n",
    "else:\n",
    "    workdir = os.getcwd().replace(\"/home/\",\"/binfl/\")\n",
    "model_dir = f\"{workdir}/saved_models/{rdate}\"\n",
    "\n",
    "# Check for GPU support\n",
    "import torch\n",
    "if torch.cuda.is_available():\n",
    "        print(\"Using GPU for inference\")\n",
    "        print(torch.cuda.get_device_name(torch.cuda.current_device()))\n",
    "        device = torch.cuda.current_device()\n",
    "else:\n",
    "        print(\"Using CPU for inference\")\n",
    "        device = -1"
   ]
  },
  {
   "cell_type": "code",
   "execution_count": 6,
   "id": "electoral-budapest",
   "metadata": {
    "colab": {
     "base_uri": "https://localhost:8080/"
    },
    "execution": {
     "iopub.execute_input": "2021-09-01T17:08:00.669186Z",
     "iopub.status.busy": "2021-09-01T17:08:00.668608Z",
     "iopub.status.idle": "2021-09-01T17:08:00.671039Z",
     "shell.execute_reply": "2021-09-01T17:08:00.671469Z"
    },
    "id": "3w3ZNBmItp_p",
    "outputId": "5230237d-a612-414d-ea7e-7f6ce6dd31a6",
    "papermill": {
     "duration": 0.034891,
     "end_time": "2021-09-01T17:08:00.671595",
     "exception": false,
     "start_time": "2021-09-01T17:08:00.636704",
     "status": "completed"
    },
    "tags": []
   },
   "outputs": [],
   "source": [
    "if g_colab:\n",
    "    !pip install transformers\n",
    "    !pip install sentencepiece"
   ]
  },
  {
   "cell_type": "markdown",
   "id": "committed-subscriber",
   "metadata": {
    "id": "WF-aoH7jZLTn",
    "papermill": {
     "duration": 0.026255,
     "end_time": "2021-09-01T17:08:00.724138",
     "exception": false,
     "start_time": "2021-09-01T17:08:00.697883",
     "status": "completed"
    },
    "tags": []
   },
   "source": [
    "# Libraries"
   ]
  },
  {
   "cell_type": "code",
   "execution_count": 7,
   "id": "aggressive-action",
   "metadata": {
    "execution": {
     "iopub.execute_input": "2021-09-01T17:08:00.785123Z",
     "iopub.status.busy": "2021-09-01T17:08:00.784476Z",
     "iopub.status.idle": "2021-09-01T17:08:01.878576Z",
     "shell.execute_reply": "2021-09-01T17:08:01.879089Z"
    },
    "id": "fM0lku9lt9As",
    "papermill": {
     "duration": 1.128942,
     "end_time": "2021-09-01T17:08:01.879251",
     "exception": false,
     "start_time": "2021-09-01T17:08:00.750309",
     "status": "completed"
    },
    "tags": []
   },
   "outputs": [],
   "source": [
    "import torch                                              #for training the model\n",
    "from torch.utils.data import DataLoader, RandomSampler, SequentialSampler\n",
    "from torch.utils.data import TensorDataset\n",
    "import pandas as pd                                       #for handling the data\n",
    "from transformers import XLMRobertaTokenizer, AutoTokenizer              #for loading the pretrained model and tokenizer\n",
    "from transformers import XLMRobertaForSequenceClassification, AutoModelForSequenceClassification\n",
    "from transformers import AdamW                            \n",
    "from transformers import get_linear_schedule_with_warmup\n",
    "from transformers import pipeline\n",
    "from sklearn import preprocessing                         #for label encoding\n",
    "from sklearn.metrics import classification_report         #for showing performance on validation/test sets\n",
    "from sklearn.metrics import f1_score\n",
    "from sklearn.metrics import confusion_matrix\n",
    "from sklearn.model_selection import ParameterGrid         #for grid search\n",
    "from sklearn.model_selection import ParameterSampler      #for random search\n",
    "from sklearn.utils.fixes import loguniform\n",
    "import sentencepiece\n",
    "import matplotlib.pyplot as plt\n",
    "import time\n",
    "import datetime\n",
    "import random\n",
    "import numpy as np\n",
    "%matplotlib inline\n",
    "import seaborn as sns\n",
    "# For file saving etc.\n",
    "import os\n",
    "import shutil"
   ]
  },
  {
   "cell_type": "markdown",
   "id": "appointed-friend",
   "metadata": {
    "id": "vXVdDSzPWpuQ",
    "papermill": {
     "duration": 0.028313,
     "end_time": "2021-09-01T17:08:01.938968",
     "exception": false,
     "start_time": "2021-09-01T17:08:01.910655",
     "status": "completed"
    },
    "tags": []
   },
   "source": [
    "# Load Data"
   ]
  },
  {
   "cell_type": "code",
   "execution_count": 8,
   "id": "respective-document",
   "metadata": {
    "execution": {
     "iopub.execute_input": "2021-09-01T17:08:02.000035Z",
     "iopub.status.busy": "2021-09-01T17:08:01.999151Z",
     "iopub.status.idle": "2021-09-01T17:08:02.002840Z",
     "shell.execute_reply": "2021-09-01T17:08:02.003358Z"
    },
    "papermill": {
     "duration": 0.037828,
     "end_time": "2021-09-01T17:08:02.003479",
     "exception": false,
     "start_time": "2021-09-01T17:08:01.965651",
     "status": "completed"
    },
    "tags": []
   },
   "outputs": [
    {
     "name": "stdout",
     "output_type": "stream",
     "text": [
      "['ANT', 'HYP', 'RANDOM', 'SYN']\n"
     ]
    }
   ],
   "source": [
    "# sk learn label encoder for changing the labels to integers\n",
    "labels=[\"ANT\", \"HYP\", \"RANDOM\", \"SYN\"]\n",
    "le = preprocessing.LabelEncoder()\n",
    "le.fit(labels)\n",
    "print(labels)"
   ]
  },
  {
   "cell_type": "code",
   "execution_count": 9,
   "id": "following-gossip",
   "metadata": {
    "colab": {
     "base_uri": "https://localhost:8080/",
     "height": 162,
     "referenced_widgets": [
      "70f2ca37e80941b881915f2d52e628e4",
      "d88d0f1d1d3244b092ee7300d3f3ebf9",
      "315068fdd93844d6b8282742a0c76a60",
      "5b3b868e78e041099eab18c2df69d6a5",
      "1fbde35437624a31a6cd2ebce49b3fa1",
      "70c18ba08e394349beea8f99c844c1b5",
      "ca8bf3cc48b2435886c4006b30e9a6b1",
      "e0608cdb8eb74683ba4748797186783a",
      "3f2cea47d90f4519927ffce8d2f8433d",
      "c4890ed61a2b498abec6327b5ade2964",
      "a61922d44ee64efba1b5c4ab7937503c",
      "833489e888404c79866f1d043f419b89",
      "eaab6cd42cc84539892717bb4776f668",
      "23fa64296e4d4b83b750e135684fa81a",
      "523471f5adcb487c84b480a12b2c6cfc",
      "ebbf5205339546eca07268b9becb0955",
      "db4cfaff5dee4814ac3be1a8272db12c",
      "af79c015daea44a494b5930dc7e34457",
      "89587d6fe3cb44d0a36de6c4b259eef7",
      "6c93c15a51dd4050a152b607d51d9d09",
      "1bac5eacd3b648468b1b707a1863f45a",
      "671c29c6a8f548b09b9d9063322ba171",
      "6314d3d241684a999baab54b1a252394",
      "9efb513058f44b30b63e4000d61d8639",
      "8e98de38bc3c4402961df637deea0f65",
      "8951f557bfe141b0bcf482d3430ad633",
      "dcfbbc90049047eda68ac50fbf3b33a6",
      "321773d15718404aa575bbc1cecfa283",
      "88319406bbae4e52aeb03ac4f1572051",
      "478dcbd7bd024cd3a0b8392e06b796b2",
      "bc52b3e427174c9296bcbb948337f5e2",
      "22032995e99941d7a69dedce13a75a22",
      "06487b0f05e44528a38a9b1af67f3f74",
      "98084d93ef094361b9f98c641a58422f",
      "d2286f72b11e451db3d3fd552c54c73f",
      "e4c5d1a9d34841178e8478191ff38364",
      "0df8cea9dd524ce2983147e49b81a68b",
      "f066e898a37c47aba8f09fe3f17302fa",
      "f622d5bfd88147de8dc49b68479eb2f1",
      "ea2c981b7d0240e5ba6d69f47a7687e2",
      "4dbb3f2c664f47f7a85bb2ce7ae3a57f",
      "af2a7d50a2ac42e6ab1a32b8a48dcfb0",
      "1c9b907d473348319be362575e0a628a",
      "8bd24ab57df843569c038b265d6d3bc0"
     ]
    },
    "execution": {
     "iopub.execute_input": "2021-09-01T17:08:02.063054Z",
     "iopub.status.busy": "2021-09-01T17:08:02.062496Z",
     "iopub.status.idle": "2021-09-01T17:08:05.289428Z",
     "shell.execute_reply": "2021-09-01T17:08:05.290102Z"
    },
    "id": "qoUK_mvmh1im",
    "outputId": "24e0491c-7953-4823-977e-6fc529505df8",
    "papermill": {
     "duration": 3.260199,
     "end_time": "2021-09-01T17:08:05.290299",
     "exception": false,
     "start_time": "2021-09-01T17:08:02.030100",
     "status": "completed"
    },
    "tags": []
   },
   "outputs": [
    {
     "data": {
      "text/plain": [
       "1"
      ]
     },
     "execution_count": 9,
     "metadata": {},
     "output_type": "execute_result"
    }
   ],
   "source": [
    "tokenizer = AutoTokenizer.from_pretrained(model_name)\n",
    "#tokenizer = XLMRobertaTokenizer.from_pretrained(\"xlm-roberta-base\")\n",
    "if \"gpt2\" in model_name:\n",
    "    tokenizer.add_special_tokens({'pad_token': '[PAD]'})\n",
    "tokenizer.pad_token_id"
   ]
  },
  {
   "cell_type": "markdown",
   "id": "emerging-summit",
   "metadata": {
    "papermill": {
     "duration": 0.028373,
     "end_time": "2021-09-01T17:08:05.357571",
     "exception": false,
     "start_time": "2021-09-01T17:08:05.329198",
     "status": "completed"
    },
    "tags": []
   },
   "source": [
    "# Evaluate Validation"
   ]
  },
  {
   "cell_type": "code",
   "execution_count": 10,
   "id": "intelligent-minnesota",
   "metadata": {
    "execution": {
     "iopub.execute_input": "2021-09-01T17:08:05.417888Z",
     "iopub.status.busy": "2021-09-01T17:08:05.417091Z",
     "iopub.status.idle": "2021-09-01T17:08:05.421003Z",
     "shell.execute_reply": "2021-09-01T17:08:05.420533Z"
    },
    "papermill": {
     "duration": 0.036295,
     "end_time": "2021-09-01T17:08:05.421116",
     "exception": false,
     "start_time": "2021-09-01T17:08:05.384821",
     "status": "completed"
    },
    "tags": []
   },
   "outputs": [
    {
     "name": "stdout",
     "output_type": "stream",
     "text": [
      "{0: 'ANT', 1: 'HYP', 2: 'RANDOM', 3: 'SYN'}\n"
     ]
    }
   ],
   "source": [
    "label_dict = {i : l for i,l in enumerate(labels)}\n",
    "print(label_dict)"
   ]
  },
  {
   "cell_type": "markdown",
   "id": "crucial-bottle",
   "metadata": {
    "tags": [
     "papermill-error-cell-tag"
    ]
   },
   "source": [
    "<span id=\"papermill-error-cell\" style=\"color:red; font-family:Helvetica Neue, Helvetica, Arial, sans-serif; font-size:2em;\">Execution using papermill encountered an exception here and stopped:</span>"
   ]
  },
  {
   "cell_type": "code",
   "execution_count": 11,
   "id": "creative-context",
   "metadata": {
    "execution": {
     "iopub.execute_input": "2021-09-01T17:08:05.508282Z",
     "iopub.status.busy": "2021-09-01T17:08:05.484837Z",
     "iopub.status.idle": "2021-09-01T17:08:06.359225Z",
     "shell.execute_reply": "2021-09-01T17:08:06.357683Z"
    },
    "papermill": {
     "duration": 0.910634,
     "end_time": "2021-09-01T17:08:06.359463",
     "exception": true,
     "start_time": "2021-09-01T17:08:05.448829",
     "status": "failed"
    },
    "tags": []
   },
   "outputs": [
    {
     "name": "stdout",
     "output_type": "stream",
     "text": [
      "Run 3\n",
      "\n"
     ]
    },
    {
     "name": "stderr",
     "output_type": "stream",
     "text": [
      "404 Client Error: Not Found for url: https://huggingface.co//binfl/lv71502/clang/Cogalex2.0/saved_models/2021-08-31/Run%203/xlm-roberta-large_8/resolve/main/config.json\n"
     ]
    },
    {
     "ename": "OSError",
     "evalue": "Can't load config for '/binfl/lv71502/clang/Cogalex2.0/saved_models/2021-08-31/Run 3/xlm-roberta-large_8'. Make sure that:\n\n- '/binfl/lv71502/clang/Cogalex2.0/saved_models/2021-08-31/Run 3/xlm-roberta-large_8' is a correct model identifier listed on 'https://huggingface.co/models'\n\n- or '/binfl/lv71502/clang/Cogalex2.0/saved_models/2021-08-31/Run 3/xlm-roberta-large_8' is the correct path to a directory containing a config.json file\n\n",
     "output_type": "error",
     "traceback": [
      "\u001b[0;31m---------------------------------------------------------------------------\u001b[0m",
      "\u001b[0;31mHTTPError\u001b[0m                                 Traceback (most recent call last)",
      "\u001b[0;32m~/.virtualenvs/huggingface/lib/python3.6/site-packages/transformers/configuration_utils.py\u001b[0m in \u001b[0;36mget_config_dict\u001b[0;34m(cls, pretrained_model_name_or_path, **kwargs)\u001b[0m\n\u001b[1;32m    465\u001b[0m                 \u001b[0muse_auth_token\u001b[0m\u001b[0;34m=\u001b[0m\u001b[0muse_auth_token\u001b[0m\u001b[0;34m,\u001b[0m\u001b[0;34m\u001b[0m\u001b[0m\n\u001b[0;32m--> 466\u001b[0;31m                 \u001b[0muser_agent\u001b[0m\u001b[0;34m=\u001b[0m\u001b[0muser_agent\u001b[0m\u001b[0;34m,\u001b[0m\u001b[0;34m\u001b[0m\u001b[0m\n\u001b[0m\u001b[1;32m    467\u001b[0m             )\n",
      "\u001b[0;32m~/.virtualenvs/huggingface/lib/python3.6/site-packages/transformers/file_utils.py\u001b[0m in \u001b[0;36mcached_path\u001b[0;34m(url_or_filename, cache_dir, force_download, proxies, resume_download, user_agent, extract_compressed_file, force_extract, use_auth_token, local_files_only)\u001b[0m\n\u001b[1;32m   1172\u001b[0m             \u001b[0muse_auth_token\u001b[0m\u001b[0;34m=\u001b[0m\u001b[0muse_auth_token\u001b[0m\u001b[0;34m,\u001b[0m\u001b[0;34m\u001b[0m\u001b[0m\n\u001b[0;32m-> 1173\u001b[0;31m             \u001b[0mlocal_files_only\u001b[0m\u001b[0;34m=\u001b[0m\u001b[0mlocal_files_only\u001b[0m\u001b[0;34m,\u001b[0m\u001b[0;34m\u001b[0m\u001b[0m\n\u001b[0m\u001b[1;32m   1174\u001b[0m         )\n",
      "\u001b[0;32m~/.virtualenvs/huggingface/lib/python3.6/site-packages/transformers/file_utils.py\u001b[0m in \u001b[0;36mget_from_cache\u001b[0;34m(url, cache_dir, force_download, proxies, etag_timeout, resume_download, user_agent, use_auth_token, local_files_only)\u001b[0m\n\u001b[1;32m   1335\u001b[0m             \u001b[0mr\u001b[0m \u001b[0;34m=\u001b[0m \u001b[0mrequests\u001b[0m\u001b[0;34m.\u001b[0m\u001b[0mhead\u001b[0m\u001b[0;34m(\u001b[0m\u001b[0murl\u001b[0m\u001b[0;34m,\u001b[0m \u001b[0mheaders\u001b[0m\u001b[0;34m=\u001b[0m\u001b[0mheaders\u001b[0m\u001b[0;34m,\u001b[0m \u001b[0mallow_redirects\u001b[0m\u001b[0;34m=\u001b[0m\u001b[0;32mFalse\u001b[0m\u001b[0;34m,\u001b[0m \u001b[0mproxies\u001b[0m\u001b[0;34m=\u001b[0m\u001b[0mproxies\u001b[0m\u001b[0;34m,\u001b[0m \u001b[0mtimeout\u001b[0m\u001b[0;34m=\u001b[0m\u001b[0metag_timeout\u001b[0m\u001b[0;34m)\u001b[0m\u001b[0;34m\u001b[0m\u001b[0m\n\u001b[0;32m-> 1336\u001b[0;31m             \u001b[0mr\u001b[0m\u001b[0;34m.\u001b[0m\u001b[0mraise_for_status\u001b[0m\u001b[0;34m(\u001b[0m\u001b[0;34m)\u001b[0m\u001b[0;34m\u001b[0m\u001b[0m\n\u001b[0m\u001b[1;32m   1337\u001b[0m             \u001b[0metag\u001b[0m \u001b[0;34m=\u001b[0m \u001b[0mr\u001b[0m\u001b[0;34m.\u001b[0m\u001b[0mheaders\u001b[0m\u001b[0;34m.\u001b[0m\u001b[0mget\u001b[0m\u001b[0;34m(\u001b[0m\u001b[0;34m\"X-Linked-Etag\"\u001b[0m\u001b[0;34m)\u001b[0m \u001b[0;32mor\u001b[0m \u001b[0mr\u001b[0m\u001b[0;34m.\u001b[0m\u001b[0mheaders\u001b[0m\u001b[0;34m.\u001b[0m\u001b[0mget\u001b[0m\u001b[0;34m(\u001b[0m\u001b[0;34m\"ETag\"\u001b[0m\u001b[0;34m)\u001b[0m\u001b[0;34m\u001b[0m\u001b[0m\n",
      "\u001b[0;32m~/.virtualenvs/huggingface/lib/python3.6/site-packages/requests/models.py\u001b[0m in \u001b[0;36mraise_for_status\u001b[0;34m(self)\u001b[0m\n\u001b[1;32m    942\u001b[0m         \u001b[0;32mif\u001b[0m \u001b[0mhttp_error_msg\u001b[0m\u001b[0;34m:\u001b[0m\u001b[0;34m\u001b[0m\u001b[0m\n\u001b[0;32m--> 943\u001b[0;31m             \u001b[0;32mraise\u001b[0m \u001b[0mHTTPError\u001b[0m\u001b[0;34m(\u001b[0m\u001b[0mhttp_error_msg\u001b[0m\u001b[0;34m,\u001b[0m \u001b[0mresponse\u001b[0m\u001b[0;34m=\u001b[0m\u001b[0mself\u001b[0m\u001b[0;34m)\u001b[0m\u001b[0;34m\u001b[0m\u001b[0m\n\u001b[0m\u001b[1;32m    944\u001b[0m \u001b[0;34m\u001b[0m\u001b[0m\n",
      "\u001b[0;31mHTTPError\u001b[0m: 404 Client Error: Not Found for url: https://huggingface.co//binfl/lv71502/clang/Cogalex2.0/saved_models/2021-08-31/Run%203/xlm-roberta-large_8/resolve/main/config.json",
      "\nDuring handling of the above exception, another exception occurred:\n",
      "\u001b[0;31mOSError\u001b[0m                                   Traceback (most recent call last)",
      "\u001b[0;32m<ipython-input-11-3dc1586b846e>\u001b[0m in \u001b[0;36m<module>\u001b[0;34m\u001b[0m\n\u001b[1;32m      9\u001b[0m     model = AutoModelForSequenceClassification.from_pretrained(f\"{model_dir}/{run}/{model_name}_{it}\",\n\u001b[1;32m     10\u001b[0m                                                                \u001b[0mnum_labels\u001b[0m\u001b[0;34m=\u001b[0m\u001b[0;36m4\u001b[0m\u001b[0;34m,\u001b[0m\u001b[0;34m\u001b[0m\u001b[0m\n\u001b[0;32m---> 11\u001b[0;31m                                                                id2label=label_dict)                                                        \n\u001b[0m\u001b[1;32m     12\u001b[0m     \u001b[0mmodel\u001b[0m\u001b[0;34m.\u001b[0m\u001b[0meval\u001b[0m\u001b[0;34m(\u001b[0m\u001b[0;34m)\u001b[0m\u001b[0;34m\u001b[0m\u001b[0m\n\u001b[1;32m     13\u001b[0m     \u001b[0mannotate\u001b[0m \u001b[0;34m=\u001b[0m \u001b[0mpipeline\u001b[0m\u001b[0;34m(\u001b[0m\u001b[0;34m\"sentiment-analysis\"\u001b[0m\u001b[0;34m,\u001b[0m \u001b[0mmodel\u001b[0m\u001b[0;34m=\u001b[0m\u001b[0mmodel\u001b[0m\u001b[0;34m,\u001b[0m \u001b[0mtokenizer\u001b[0m\u001b[0;34m=\u001b[0m\u001b[0mtokenizer\u001b[0m\u001b[0;34m,\u001b[0m \u001b[0mdevice\u001b[0m\u001b[0;34m=\u001b[0m\u001b[0mdevice\u001b[0m\u001b[0;34m)\u001b[0m\u001b[0;34m\u001b[0m\u001b[0m\n",
      "\u001b[0;32m~/.virtualenvs/huggingface/lib/python3.6/site-packages/transformers/models/auto/auto_factory.py\u001b[0m in \u001b[0;36mfrom_pretrained\u001b[0;34m(cls, pretrained_model_name_or_path, *model_args, **kwargs)\u001b[0m\n\u001b[1;32m    353\u001b[0m         \u001b[0;32mif\u001b[0m \u001b[0;32mnot\u001b[0m \u001b[0misinstance\u001b[0m\u001b[0;34m(\u001b[0m\u001b[0mconfig\u001b[0m\u001b[0;34m,\u001b[0m \u001b[0mPretrainedConfig\u001b[0m\u001b[0;34m)\u001b[0m\u001b[0;34m:\u001b[0m\u001b[0;34m\u001b[0m\u001b[0m\n\u001b[1;32m    354\u001b[0m             config, kwargs = AutoConfig.from_pretrained(\n\u001b[0;32m--> 355\u001b[0;31m                 \u001b[0mpretrained_model_name_or_path\u001b[0m\u001b[0;34m,\u001b[0m \u001b[0mreturn_unused_kwargs\u001b[0m\u001b[0;34m=\u001b[0m\u001b[0;32mTrue\u001b[0m\u001b[0;34m,\u001b[0m \u001b[0;34m**\u001b[0m\u001b[0mkwargs\u001b[0m\u001b[0;34m\u001b[0m\u001b[0m\n\u001b[0m\u001b[1;32m    356\u001b[0m             )\n\u001b[1;32m    357\u001b[0m \u001b[0;34m\u001b[0m\u001b[0m\n",
      "\u001b[0;32m~/.virtualenvs/huggingface/lib/python3.6/site-packages/transformers/models/auto/configuration_auto.py\u001b[0m in \u001b[0;36mfrom_pretrained\u001b[0;34m(cls, pretrained_model_name_or_path, **kwargs)\u001b[0m\n\u001b[1;32m    396\u001b[0m         \"\"\"\n\u001b[1;32m    397\u001b[0m         \u001b[0mkwargs\u001b[0m\u001b[0;34m[\u001b[0m\u001b[0;34m\"_from_auto\"\u001b[0m\u001b[0;34m]\u001b[0m \u001b[0;34m=\u001b[0m \u001b[0;32mTrue\u001b[0m\u001b[0;34m\u001b[0m\u001b[0m\n\u001b[0;32m--> 398\u001b[0;31m         \u001b[0mconfig_dict\u001b[0m\u001b[0;34m,\u001b[0m \u001b[0m_\u001b[0m \u001b[0;34m=\u001b[0m \u001b[0mPretrainedConfig\u001b[0m\u001b[0;34m.\u001b[0m\u001b[0mget_config_dict\u001b[0m\u001b[0;34m(\u001b[0m\u001b[0mpretrained_model_name_or_path\u001b[0m\u001b[0;34m,\u001b[0m \u001b[0;34m**\u001b[0m\u001b[0mkwargs\u001b[0m\u001b[0;34m)\u001b[0m\u001b[0;34m\u001b[0m\u001b[0m\n\u001b[0m\u001b[1;32m    399\u001b[0m         \u001b[0;32mif\u001b[0m \u001b[0;34m\"model_type\"\u001b[0m \u001b[0;32min\u001b[0m \u001b[0mconfig_dict\u001b[0m\u001b[0;34m:\u001b[0m\u001b[0;34m\u001b[0m\u001b[0m\n\u001b[1;32m    400\u001b[0m             \u001b[0mconfig_class\u001b[0m \u001b[0;34m=\u001b[0m \u001b[0mCONFIG_MAPPING\u001b[0m\u001b[0;34m[\u001b[0m\u001b[0mconfig_dict\u001b[0m\u001b[0;34m[\u001b[0m\u001b[0;34m\"model_type\"\u001b[0m\u001b[0;34m]\u001b[0m\u001b[0;34m]\u001b[0m\u001b[0;34m\u001b[0m\u001b[0m\n",
      "\u001b[0;32m~/.virtualenvs/huggingface/lib/python3.6/site-packages/transformers/configuration_utils.py\u001b[0m in \u001b[0;36mget_config_dict\u001b[0;34m(cls, pretrained_model_name_or_path, **kwargs)\u001b[0m\n\u001b[1;32m    476\u001b[0m                 \u001b[0;34mf\"- or '{pretrained_model_name_or_path}' is the correct path to a directory containing a {CONFIG_NAME} file\\n\\n\"\u001b[0m\u001b[0;34m\u001b[0m\u001b[0m\n\u001b[1;32m    477\u001b[0m             )\n\u001b[0;32m--> 478\u001b[0;31m             \u001b[0;32mraise\u001b[0m \u001b[0mEnvironmentError\u001b[0m\u001b[0;34m(\u001b[0m\u001b[0mmsg\u001b[0m\u001b[0;34m)\u001b[0m\u001b[0;34m\u001b[0m\u001b[0m\n\u001b[0m\u001b[1;32m    479\u001b[0m \u001b[0;34m\u001b[0m\u001b[0m\n\u001b[1;32m    480\u001b[0m         \u001b[0;32mexcept\u001b[0m \u001b[0mjson\u001b[0m\u001b[0;34m.\u001b[0m\u001b[0mJSONDecodeError\u001b[0m\u001b[0;34m:\u001b[0m\u001b[0;34m\u001b[0m\u001b[0m\n",
      "\u001b[0;31mOSError\u001b[0m: Can't load config for '/binfl/lv71502/clang/Cogalex2.0/saved_models/2021-08-31/Run 3/xlm-roberta-large_8'. Make sure that:\n\n- '/binfl/lv71502/clang/Cogalex2.0/saved_models/2021-08-31/Run 3/xlm-roberta-large_8' is a correct model identifier listed on 'https://huggingface.co/models'\n\n- or '/binfl/lv71502/clang/Cogalex2.0/saved_models/2021-08-31/Run 3/xlm-roberta-large_8' is the correct path to a directory containing a config.json file\n\n"
     ]
    }
   ],
   "source": [
    "results = {}\n",
    "results_no_random = {}\n",
    "weighted_F1_scores = {\"chinese\":0, \"german\":0, \"english\":0, \"all\":0}\n",
    "preds_per_lang = {\"chinese\":\"\", \"german\":\"\", \"english\":\"\", \"all\":\"\"}\n",
    "for run in os.listdir(model_dir):\n",
    "    print(run + \"\\n\")\n",
    "    results[run] = {}\n",
    "    results_no_random[run] = {}\n",
    "    model = AutoModelForSequenceClassification.from_pretrained(f\"{model_dir}/{run}/{model_name}_{it}\",\n",
    "                                                               num_labels=4,  \n",
    "                                                               id2label=label_dict)                                                        \n",
    "    model.eval()\n",
    "    annotate = pipeline(\"sentiment-analysis\", model=model, tokenizer=tokenizer, device=device)\n",
    "    validgold_zh, validgold_de, validgold_en = [open(f\"./datasets/validgold_{l}_data.txt\").readlines() for l in [\"chinese\", \"german\", \"english\"]]\n",
    "    validgold_all =   validgold_zh + validgold_de + validgold_en \n",
    "    for data, read_lang in zip([validgold_zh, validgold_de, validgold_en, validgold_all], [\"chinese\", \"german\", \"english\", \"all\"]):\n",
    "        test_set = [line.split(\"\\t\") for line in data]\n",
    "        pred_input = [line[0].strip() + tokenizer.sep_token * 2 + line[1].strip() for line in test_set]\n",
    "        gold_labels = [line[2].strip() for line in test_set]\n",
    "        pred_list = annotate(pred_input)\n",
    "        pred_labels = [entry[\"label\"] for entry in pred_list]\n",
    "        report = classification_report(gold_labels, pred_labels)\n",
    "        report_dict = classification_report(gold_labels, pred_labels, output_dict=True)\n",
    "        print(f\"Results for {read_lang}: \\n\")\n",
    "        print(report, \"\\n\\n\")\n",
    "        results[run][read_lang]= report_dict\n",
    "        # Save predictions\n",
    "        weighted_F1 = f1_score(gold_labels, pred_labels, average='weighted')\n",
    "        if weighted_F1 > weighted_F1_scores[read_lang]:\n",
    "            pred_with_words = []\n",
    "            for line_words, line_pred in zip(test_set, pred_labels):\n",
    "                pred_with_words.append(\"\\t\".join(line_words[:2]) + \"\\t\" + str(line_pred))\n",
    "            preds_per_lang[read_lang] = pred_with_words\n",
    "            weighted_F1_scores[read_lang] = f1_score(gold_labels, pred_labels, average='weighted')\n",
    "        # No RANDOM scores, the CogALex way:\n",
    "        for i in range(len(gold_labels) -1, -1, -1):\n",
    "            if gold_labels[i] == 'RANDOM':\n",
    "                gold_labels.pop(i)\n",
    "                pred_labels.pop(i)\n",
    "        lbls = (\"ANT\", \"HYP\", \"SYN\")  \n",
    "        report_no_random = classification_report(gold_labels, pred_labels, labels=lbls)\n",
    "        report_no_random_dict = classification_report(gold_labels, pred_labels, labels=lbls, output_dict=True)\n",
    "        print(\"\\nNo RANDOM:\\n\")\n",
    "        print(report_no_random)\n",
    "        results_no_random[run][read_lang] = report_no_random_dict"
   ]
  },
  {
   "cell_type": "code",
   "execution_count": null,
   "id": "advanced-crime",
   "metadata": {
    "papermill": {
     "duration": null,
     "end_time": null,
     "exception": null,
     "start_time": null,
     "status": "pending"
    },
    "tags": []
   },
   "outputs": [],
   "source": [
    "results_by_lang = {}\n",
    "\n",
    "for k1 in results.keys():\n",
    "    for k2 in results[k1].keys():\n",
    "        if k2 in results_by_lang.keys():\n",
    "            results_by_lang[k2][k1] = results[k1][k2][\"weighted avg\"]\n",
    "        else:\n",
    "            results_by_lang[k2] = {}\n",
    "            results_by_lang[k2][k1] = results[k1][k2][\"weighted avg\"]\n",
    "columns = [i for i in results_by_lang.keys()]\n",
    "avg_val_results = pd.DataFrame(columns=[\"precision\", \"recall\", \"f1-score\", \"support\"])\n",
    "for k in columns:\n",
    "    temp_df = pd.DataFrame(results_by_lang[k]).transpose()\n",
    "    avg_val_results.loc[k] = temp_df.mean()\n",
    "avg_val_results.update(avg_val_results.loc[:,[i for i in avg_val_results.keys() if i != \"support\"]].apply(lambda x: round(x * 100, 1)))\n",
    "avg_val_results"
   ]
  },
  {
   "cell_type": "code",
   "execution_count": null,
   "id": "polar-jacket",
   "metadata": {
    "papermill": {
     "duration": null,
     "end_time": null,
     "exception": null,
     "start_time": null,
     "status": "pending"
    },
    "tags": []
   },
   "outputs": [],
   "source": [
    "results_by_lang = {}\n",
    "\n",
    "for k1 in results_no_random.keys():\n",
    "    for k2 in results_no_random[k1].keys():\n",
    "        if k2 in results_by_lang.keys():\n",
    "            results_by_lang[k2][k1] = results_no_random[k1][k2][\"weighted avg\"]\n",
    "        else:\n",
    "            results_by_lang[k2] = {}\n",
    "            results_by_lang[k2][k1] = results_no_random[k1][k2][\"weighted avg\"]\n",
    "columns = [i for i in results_by_lang.keys()]\n",
    "avg_val_results_no_random = pd.DataFrame(columns=[\"precision\", \"recall\", \"f1-score\", \"support\"])\n",
    "for k in columns:\n",
    "    temp_df = pd.DataFrame(results_by_lang[k]).transpose()\n",
    "    avg_val_results_no_random.loc[k] = temp_df.mean()\n",
    "avg_val_results_no_random.update(avg_val_results_no_random.loc[:,[i for i in avg_val_results.keys() if i != \"support\"]].apply(lambda x: round(x * 100, 1)))\n",
    "avg_val_results_no_random"
   ]
  },
  {
   "cell_type": "code",
   "execution_count": null,
   "id": "spatial-representative",
   "metadata": {
    "id": "KnpTj3UFrJxf",
    "papermill": {
     "duration": null,
     "end_time": null,
     "exception": null,
     "start_time": null,
     "status": "pending"
    },
    "tags": []
   },
   "outputs": [],
   "source": [
    "# save average scores\n",
    "os.makedirs(savedir, exist_ok=True)\n",
    "val_preds_savedir = savedir + \"/val_preds\"\n",
    "os.makedirs(val_preds_savedir, exist_ok=True)\n",
    "avg_val_results.to_csv(f\"{savedir}/val_avg_{model_name}_{it}.csv\")\n",
    "avg_val_results_no_random.to_csv(f\"{savedir}/val_no_random_avg_{model_name}_{it}.csv\")\n",
    "for key in preds_per_lang.keys():\n",
    "    with open(val_preds_savedir + f\"/{key}-predictions.txt\", \"w\", encoding=\"utf-8\") as f:\n",
    "        for line in preds_per_lang[key]:\n",
    "            print(line, file=f)        "
   ]
  },
  {
   "cell_type": "markdown",
   "id": "unlimited-moisture",
   "metadata": {
    "id": "_I_VKZ4pplcd",
    "papermill": {
     "duration": null,
     "end_time": null,
     "exception": null,
     "start_time": null,
     "status": "pending"
    },
    "tags": []
   },
   "source": [
    "# Evaluate on Gold"
   ]
  },
  {
   "cell_type": "code",
   "execution_count": null,
   "id": "protected-breathing",
   "metadata": {
    "colab": {
     "base_uri": "https://localhost:8080/"
    },
    "id": "Amdx8-KGpnn9",
    "outputId": "224c4247-b8eb-4c3d-fb6a-b73a9fbb7760",
    "papermill": {
     "duration": null,
     "end_time": null,
     "exception": null,
     "start_time": null,
     "status": "pending"
    },
    "tags": []
   },
   "outputs": [],
   "source": [
    "results = {}\n",
    "results_no_random = {}\n",
    "weighted_F1_scores = {\"chinese\":0, \"german\":0, \"english\":0, \"italian\":0, \"german NEW\":0, \"english NEW\": 0}\n",
    "preds_per_lang = {\"chinese\":\"\", \"german\":\"\", \"english\":\"\", \"italian\":\"\", \"german NEW\":\"\", \"english NEW\": \"\"}\n",
    "for run in os.listdir(model_dir):\n",
    "    results[run] = {}\n",
    "    results_no_random[run] = {}\n",
    "    model = AutoModelForSequenceClassification.from_pretrained(f\"{model_dir}/{run}/{model_name}_{it}\",  id2label=label_dict)\n",
    "    model.eval()\n",
    "    annotate = pipeline(\"sentiment-analysis\", model=model, tokenizer=tokenizer, device=device)\n",
    "    gold_zh, gold_de, gold_en, gold_it = [open(f\"./datasets/gold_{l}_data.txt\").readlines() for l in [\"chinese\", \"german\", \"english\", \"italian\"]]\n",
    "    gold_de_new, gold_en_new = [open(f\"./datasets/gold_{l}_data_new.txt\").readlines() for l in [\"german\", \"english\"]]   \n",
    "    for data, read_lang in zip([gold_zh, gold_de, gold_en, gold_it, gold_de_new, gold_en_new], [\"chinese\", \"german\", \"english\", \"italian\", \"german NEW\", \"english NEW\"]):\n",
    "        # Load data for prediction/scoring\n",
    "        test_set = [line.split(\"\\t\") for line in data]\n",
    "        pred_input = [line[0].strip() + tokenizer.sep_token * 2 + line[1].strip() for line in test_set]\n",
    "        gold_labels = [line[2].strip() for line in test_set]\n",
    "        \n",
    "        #Predict labels on test_set\n",
    "        pred_list = annotate(pred_input)\n",
    "        pred_labels = [entry[\"label\"] for entry in pred_list]\n",
    "        report = classification_report(gold_labels, pred_labels)\n",
    "        report_dict = classification_report(gold_labels, pred_labels, output_dict=True)\n",
    "        print(f\"Results for {read_lang}: \\n\")\n",
    "        print(report, \"\\n\\n\")\n",
    "        results[run][read_lang]= report_dict\n",
    "        \n",
    "        # Save predictions\n",
    "        weighted_F1 = f1_score(gold_labels, pred_labels, average='weighted')\n",
    "        if weighted_F1 > weighted_F1_scores[read_lang]:\n",
    "            pred_with_words = []\n",
    "            for line_words, line_pred in zip(test_set, pred_labels):\n",
    "                pred_with_words.append(\"\\t\".join(line_words[:2]) + \"\\t\" + str(line_pred))\n",
    "            preds_per_lang[read_lang] = pred_with_words\n",
    "            weighted_F1_scores[read_lang] = f1_score(gold_labels, pred_labels, average='weighted')\n",
    "        \n",
    "        # No RANDOM scores, the CogALex way:\n",
    "        for i in range(len(gold_labels) -1, -1, -1):\n",
    "            if gold_labels[i] == 'RANDOM':\n",
    "                gold_labels.pop(i)\n",
    "                pred_labels.pop(i)\n",
    "        lbls = (\"ANT\", \"HYP\", \"SYN\")  \n",
    "        report_no_random = classification_report(gold_labels, pred_labels, labels=lbls)\n",
    "        report_no_random_dict = classification_report(gold_labels, pred_labels, labels=lbls, output_dict=True)\n",
    "        print(\"\\nNo RANDOM:\\n\")\n",
    "        print(report_no_random)\n",
    "        results_no_random[run][read_lang] = report_no_random_dict\n",
    "        #print(results_no_random[run][read_lang][\"weighted avg\"])"
   ]
  },
  {
   "cell_type": "code",
   "execution_count": null,
   "id": "offshore-football",
   "metadata": {
    "colab": {
     "base_uri": "https://localhost:8080/",
     "height": 235
    },
    "id": "UVnyEnCe2odr",
    "outputId": "d4c17944-ad24-4cbc-f0f8-4cb0b18f9dfb",
    "papermill": {
     "duration": null,
     "end_time": null,
     "exception": null,
     "start_time": null,
     "status": "pending"
    },
    "tags": []
   },
   "outputs": [],
   "source": [
    "results_by_lang = {}\n",
    "\n",
    "for k1 in results.keys():\n",
    "    for k2 in results[k1].keys():\n",
    "        if k2 in results_by_lang.keys():\n",
    "            results_by_lang[k2][k1] = results[k1][k2][\"weighted avg\"]\n",
    "        else:\n",
    "            results_by_lang[k2] = {}\n",
    "            results_by_lang[k2][k1] = results[k1][k2][\"weighted avg\"]\n",
    "columns = [i for i in results_by_lang.keys()]\n",
    "avg_test_results = pd.DataFrame(columns=[\"precision\", \"recall\", \"f1-score\", \"support\"])\n",
    "for k in columns:\n",
    "    temp_df = pd.DataFrame(results_by_lang[k]).transpose()\n",
    "    avg_test_results.loc[k] = temp_df.mean()\n",
    "avg_test_results.update(avg_test_results.loc[:,[i for i in avg_test_results.keys() if i != \"support\"]].apply(lambda x: round(x * 100, 1)))\n",
    "avg_test_results"
   ]
  },
  {
   "cell_type": "code",
   "execution_count": null,
   "id": "patent-superior",
   "metadata": {
    "colab": {
     "base_uri": "https://localhost:8080/",
     "height": 235
    },
    "id": "11uX0McTqk8m",
    "outputId": "3d029f47-5495-49d3-81da-43ce08e10fba",
    "papermill": {
     "duration": null,
     "end_time": null,
     "exception": null,
     "start_time": null,
     "status": "pending"
    },
    "tags": []
   },
   "outputs": [],
   "source": [
    "results_by_lang = {}\n",
    "\n",
    "for k1 in results_no_random.keys():\n",
    "    for k2 in results_no_random[k1].keys():\n",
    "        if k2 in results_by_lang.keys():\n",
    "            results_by_lang[k2][k1] = results_no_random[k1][k2][\"weighted avg\"]\n",
    "        else:\n",
    "            results_by_lang[k2] = {}\n",
    "            results_by_lang[k2][k1] = results_no_random[k1][k2][\"weighted avg\"]\n",
    "columns = [i for i in results_by_lang.keys()]\n",
    "avg_test_results_no_random = pd.DataFrame(columns=[\"precision\", \"recall\", \"f1-score\", \"support\"])\n",
    "for k in columns:\n",
    "    temp_df = pd.DataFrame(results_by_lang[k]).transpose()\n",
    "    avg_test_results_no_random.loc[k] = temp_df.mean()\n",
    "avg_test_results_no_random.update(avg_test_results_no_random.loc[:,[i for i in avg_test_results.keys() if i != \"support\"]].apply(lambda x: round(x * 100, 1)))\n",
    "avg_test_results_no_random"
   ]
  },
  {
   "cell_type": "code",
   "execution_count": null,
   "id": "third-sudan",
   "metadata": {
    "id": "LNPY6f-2KbI7",
    "papermill": {
     "duration": null,
     "end_time": null,
     "exception": null,
     "start_time": null,
     "status": "pending"
    },
    "tags": []
   },
   "outputs": [],
   "source": [
    "# save average scores\n",
    "os.makedirs(savedir, exist_ok=True)\n",
    "preds_savedir = savedir + \"/preds\"\n",
    "os.makedirs(preds_savedir, exist_ok=True)\n",
    "avg_test_results.to_csv(f\"{savedir}/test_avg_{model_name}_{it}.csv\")\n",
    "avg_test_results_no_random.to_csv(f\"{savedir}/test_no_random_avg_{model_name}_{it}.csv\")\n",
    "for key in preds_per_lang.keys():\n",
    "    with open(preds_savedir + f\"/{key}-predictions.txt\", \"w\", encoding=\"utf-8\") as f:\n",
    "        for line in preds_per_lang[key]:\n",
    "            print(line, file=f)        "
   ]
  }
 ],
 "metadata": {
  "accelerator": "GPU",
  "celltoolbar": "Tags",
  "colab": {
   "collapsed_sections": [],
   "name": "CogALex 2.0 w/ grid-search",
   "provenance": []
  },
  "kernelspec": {
   "display_name": "Python 3 (ipykernel)",
   "language": "python",
   "name": "python3"
  },
  "language_info": {
   "codemirror_mode": {
    "name": "ipython",
    "version": 3
   },
   "file_extension": ".py",
   "mimetype": "text/x-python",
   "name": "python",
   "nbconvert_exporter": "python",
   "pygments_lexer": "ipython3",
   "version": "3.6.4"
  },
  "papermill": {
   "default_parameters": {},
   "duration": 10.123651,
   "end_time": "2021-09-01T17:08:07.271273",
   "environment_variables": {},
   "exception": true,
   "input_path": "CogALex_2_0_only_eval.ipynb",
   "output_path": "/home/lv71502/clang/Cogalex2.0/2021-08-31/2021-08-31_CogALex_2_0_only_eval_9.ipynb",
   "parameters": {
    "it": 8,
    "rdate": "2021-08-31"
   },
   "start_time": "2021-09-01T17:07:57.147622",
   "version": "2.3.2"
  },
  "toc": {
   "base_numbering": 1,
   "nav_menu": {},
   "number_sections": true,
   "sideBar": true,
   "skip_h1_title": false,
   "title_cell": "Table of Contents",
   "title_sidebar": "Contents",
   "toc_cell": false,
   "toc_position": {},
   "toc_section_display": true,
   "toc_window_display": false
  },
  "widgets": {
   "application/vnd.jupyter.widget-state+json": {
    "06487b0f05e44528a38a9b1af67f3f74": {
     "model_module": "@jupyter-widgets/base",
     "model_module_version": "1.2.0",
     "model_name": "LayoutModel",
     "state": {
      "_model_module": "@jupyter-widgets/base",
      "_model_module_version": "1.2.0",
      "_model_name": "LayoutModel",
      "_view_count": null,
      "_view_module": "@jupyter-widgets/base",
      "_view_module_version": "1.2.0",
      "_view_name": "LayoutView",
      "align_content": null,
      "align_items": null,
      "align_self": null,
      "border": null,
      "bottom": null,
      "display": null,
      "flex": null,
      "flex_flow": null,
      "grid_area": null,
      "grid_auto_columns": null,
      "grid_auto_flow": null,
      "grid_auto_rows": null,
      "grid_column": null,
      "grid_gap": null,
      "grid_row": null,
      "grid_template_areas": null,
      "grid_template_columns": null,
      "grid_template_rows": null,
      "height": null,
      "justify_content": null,
      "justify_items": null,
      "left": null,
      "margin": null,
      "max_height": null,
      "max_width": null,
      "min_height": null,
      "min_width": null,
      "object_fit": null,
      "object_position": null,
      "order": null,
      "overflow": null,
      "overflow_x": null,
      "overflow_y": null,
      "padding": null,
      "right": null,
      "top": null,
      "visibility": null,
      "width": null
     }
    },
    "0df8cea9dd524ce2983147e49b81a68b": {
     "model_module": "@jupyter-widgets/controls",
     "model_module_version": "1.5.0",
     "model_name": "FloatProgressModel",
     "state": {
      "_dom_classes": [],
      "_model_module": "@jupyter-widgets/controls",
      "_model_module_version": "1.5.0",
      "_model_name": "FloatProgressModel",
      "_view_count": null,
      "_view_module": "@jupyter-widgets/controls",
      "_view_module_version": "1.5.0",
      "_view_name": "ProgressView",
      "bar_style": "success",
      "description": "",
      "description_tooltip": null,
      "layout": "IPY_MODEL_af2a7d50a2ac42e6ab1a32b8a48dcfb0",
      "max": 1961828,
      "min": 0,
      "orientation": "horizontal",
      "style": "IPY_MODEL_4dbb3f2c664f47f7a85bb2ce7ae3a57f",
      "value": 1961828
     }
    },
    "10c534c1b3e441a99fe29832803dbf39": {
     "model_module": "@jupyter-widgets/base",
     "model_module_version": "1.2.0",
     "model_name": "LayoutModel",
     "state": {
      "_model_module": "@jupyter-widgets/base",
      "_model_module_version": "1.2.0",
      "_model_name": "LayoutModel",
      "_view_count": null,
      "_view_module": "@jupyter-widgets/base",
      "_view_module_version": "1.2.0",
      "_view_name": "LayoutView",
      "align_content": null,
      "align_items": null,
      "align_self": null,
      "border": null,
      "bottom": null,
      "display": null,
      "flex": null,
      "flex_flow": null,
      "grid_area": null,
      "grid_auto_columns": null,
      "grid_auto_flow": null,
      "grid_auto_rows": null,
      "grid_column": null,
      "grid_gap": null,
      "grid_row": null,
      "grid_template_areas": null,
      "grid_template_columns": null,
      "grid_template_rows": null,
      "height": null,
      "justify_content": null,
      "justify_items": null,
      "left": null,
      "margin": null,
      "max_height": null,
      "max_width": null,
      "min_height": null,
      "min_width": null,
      "object_fit": null,
      "object_position": null,
      "order": null,
      "overflow": null,
      "overflow_x": null,
      "overflow_y": null,
      "padding": null,
      "right": null,
      "top": null,
      "visibility": null,
      "width": null
     }
    },
    "1bac5eacd3b648468b1b707a1863f45a": {
     "model_module": "@jupyter-widgets/controls",
     "model_module_version": "1.5.0",
     "model_name": "DescriptionStyleModel",
     "state": {
      "_model_module": "@jupyter-widgets/controls",
      "_model_module_version": "1.5.0",
      "_model_name": "DescriptionStyleModel",
      "_view_count": null,
      "_view_module": "@jupyter-widgets/base",
      "_view_module_version": "1.2.0",
      "_view_name": "StyleView",
      "description_width": ""
     }
    },
    "1c9b907d473348319be362575e0a628a": {
     "model_module": "@jupyter-widgets/controls",
     "model_module_version": "1.5.0",
     "model_name": "DescriptionStyleModel",
     "state": {
      "_model_module": "@jupyter-widgets/controls",
      "_model_module_version": "1.5.0",
      "_model_name": "DescriptionStyleModel",
      "_view_count": null,
      "_view_module": "@jupyter-widgets/base",
      "_view_module_version": "1.2.0",
      "_view_name": "StyleView",
      "description_width": ""
     }
    },
    "1fbde35437624a31a6cd2ebce49b3fa1": {
     "model_module": "@jupyter-widgets/controls",
     "model_module_version": "1.5.0",
     "model_name": "HTMLModel",
     "state": {
      "_dom_classes": [],
      "_model_module": "@jupyter-widgets/controls",
      "_model_module_version": "1.5.0",
      "_model_name": "HTMLModel",
      "_view_count": null,
      "_view_module": "@jupyter-widgets/controls",
      "_view_module_version": "1.5.0",
      "_view_name": "HTMLView",
      "description": "",
      "description_tooltip": null,
      "layout": "IPY_MODEL_a61922d44ee64efba1b5c4ab7937503c",
      "placeholder": "​",
      "style": "IPY_MODEL_c4890ed61a2b498abec6327b5ade2964",
      "value": " 29.0/29.0 [00:00&lt;00:00, 238B/s]"
     }
    },
    "22032995e99941d7a69dedce13a75a22": {
     "model_module": "@jupyter-widgets/controls",
     "model_module_version": "1.5.0",
     "model_name": "DescriptionStyleModel",
     "state": {
      "_model_module": "@jupyter-widgets/controls",
      "_model_module_version": "1.5.0",
      "_model_name": "DescriptionStyleModel",
      "_view_count": null,
      "_view_module": "@jupyter-widgets/base",
      "_view_module_version": "1.2.0",
      "_view_name": "StyleView",
      "description_width": ""
     }
    },
    "23fa64296e4d4b83b750e135684fa81a": {
     "model_module": "@jupyter-widgets/controls",
     "model_module_version": "1.5.0",
     "model_name": "HTMLModel",
     "state": {
      "_dom_classes": [],
      "_model_module": "@jupyter-widgets/controls",
      "_model_module_version": "1.5.0",
      "_model_name": "HTMLModel",
      "_view_count": null,
      "_view_module": "@jupyter-widgets/controls",
      "_view_module_version": "1.5.0",
      "_view_name": "HTMLView",
      "description": "",
      "description_tooltip": null,
      "layout": "IPY_MODEL_af79c015daea44a494b5930dc7e34457",
      "placeholder": "​",
      "style": "IPY_MODEL_db4cfaff5dee4814ac3be1a8272db12c",
      "value": "Downloading: 100%"
     }
    },
    "252efd156f764346908e1b2ce9578425": {
     "model_module": "@jupyter-widgets/controls",
     "model_module_version": "1.5.0",
     "model_name": "FloatProgressModel",
     "state": {
      "_dom_classes": [],
      "_model_module": "@jupyter-widgets/controls",
      "_model_module_version": "1.5.0",
      "_model_name": "FloatProgressModel",
      "_view_count": null,
      "_view_module": "@jupyter-widgets/controls",
      "_view_module_version": "1.5.0",
      "_view_name": "ProgressView",
      "bar_style": "success",
      "description": "",
      "description_tooltip": null,
      "layout": "IPY_MODEL_72ddf6512c5f46038e68a343b3cff8f3",
      "max": 541808922,
      "min": 0,
      "orientation": "horizontal",
      "style": "IPY_MODEL_4f87b7c8defb4d72affc22a3165155d4",
      "value": 541808922
     }
    },
    "315068fdd93844d6b8282742a0c76a60": {
     "model_module": "@jupyter-widgets/controls",
     "model_module_version": "1.5.0",
     "model_name": "HTMLModel",
     "state": {
      "_dom_classes": [],
      "_model_module": "@jupyter-widgets/controls",
      "_model_module_version": "1.5.0",
      "_model_name": "HTMLModel",
      "_view_count": null,
      "_view_module": "@jupyter-widgets/controls",
      "_view_module_version": "1.5.0",
      "_view_name": "HTMLView",
      "description": "",
      "description_tooltip": null,
      "layout": "IPY_MODEL_ca8bf3cc48b2435886c4006b30e9a6b1",
      "placeholder": "​",
      "style": "IPY_MODEL_70c18ba08e394349beea8f99c844c1b5",
      "value": "Downloading: 100%"
     }
    },
    "321773d15718404aa575bbc1cecfa283": {
     "model_module": "@jupyter-widgets/controls",
     "model_module_version": "1.5.0",
     "model_name": "DescriptionStyleModel",
     "state": {
      "_model_module": "@jupyter-widgets/controls",
      "_model_module_version": "1.5.0",
      "_model_name": "DescriptionStyleModel",
      "_view_count": null,
      "_view_module": "@jupyter-widgets/base",
      "_view_module_version": "1.2.0",
      "_view_name": "StyleView",
      "description_width": ""
     }
    },
    "3f2cea47d90f4519927ffce8d2f8433d": {
     "model_module": "@jupyter-widgets/base",
     "model_module_version": "1.2.0",
     "model_name": "LayoutModel",
     "state": {
      "_model_module": "@jupyter-widgets/base",
      "_model_module_version": "1.2.0",
      "_model_name": "LayoutModel",
      "_view_count": null,
      "_view_module": "@jupyter-widgets/base",
      "_view_module_version": "1.2.0",
      "_view_name": "LayoutView",
      "align_content": null,
      "align_items": null,
      "align_self": null,
      "border": null,
      "bottom": null,
      "display": null,
      "flex": null,
      "flex_flow": null,
      "grid_area": null,
      "grid_auto_columns": null,
      "grid_auto_flow": null,
      "grid_auto_rows": null,
      "grid_column": null,
      "grid_gap": null,
      "grid_row": null,
      "grid_template_areas": null,
      "grid_template_columns": null,
      "grid_template_rows": null,
      "height": null,
      "justify_content": null,
      "justify_items": null,
      "left": null,
      "margin": null,
      "max_height": null,
      "max_width": null,
      "min_height": null,
      "min_width": null,
      "object_fit": null,
      "object_position": null,
      "order": null,
      "overflow": null,
      "overflow_x": null,
      "overflow_y": null,
      "padding": null,
      "right": null,
      "top": null,
      "visibility": null,
      "width": null
     }
    },
    "478dcbd7bd024cd3a0b8392e06b796b2": {
     "model_module": "@jupyter-widgets/controls",
     "model_module_version": "1.5.0",
     "model_name": "ProgressStyleModel",
     "state": {
      "_model_module": "@jupyter-widgets/controls",
      "_model_module_version": "1.5.0",
      "_model_name": "ProgressStyleModel",
      "_view_count": null,
      "_view_module": "@jupyter-widgets/base",
      "_view_module_version": "1.2.0",
      "_view_name": "StyleView",
      "bar_color": null,
      "description_width": ""
     }
    },
    "4dbb3f2c664f47f7a85bb2ce7ae3a57f": {
     "model_module": "@jupyter-widgets/controls",
     "model_module_version": "1.5.0",
     "model_name": "ProgressStyleModel",
     "state": {
      "_model_module": "@jupyter-widgets/controls",
      "_model_module_version": "1.5.0",
      "_model_name": "ProgressStyleModel",
      "_view_count": null,
      "_view_module": "@jupyter-widgets/base",
      "_view_module_version": "1.2.0",
      "_view_name": "StyleView",
      "bar_color": null,
      "description_width": ""
     }
    },
    "4f87b7c8defb4d72affc22a3165155d4": {
     "model_module": "@jupyter-widgets/controls",
     "model_module_version": "1.5.0",
     "model_name": "ProgressStyleModel",
     "state": {
      "_model_module": "@jupyter-widgets/controls",
      "_model_module_version": "1.5.0",
      "_model_name": "ProgressStyleModel",
      "_view_count": null,
      "_view_module": "@jupyter-widgets/base",
      "_view_module_version": "1.2.0",
      "_view_name": "StyleView",
      "bar_color": null,
      "description_width": ""
     }
    },
    "523471f5adcb487c84b480a12b2c6cfc": {
     "model_module": "@jupyter-widgets/controls",
     "model_module_version": "1.5.0",
     "model_name": "FloatProgressModel",
     "state": {
      "_dom_classes": [],
      "_model_module": "@jupyter-widgets/controls",
      "_model_module_version": "1.5.0",
      "_model_name": "FloatProgressModel",
      "_view_count": null,
      "_view_module": "@jupyter-widgets/controls",
      "_view_module_version": "1.5.0",
      "_view_name": "ProgressView",
      "bar_style": "success",
      "description": "",
      "description_tooltip": null,
      "layout": "IPY_MODEL_6c93c15a51dd4050a152b607d51d9d09",
      "max": 466,
      "min": 0,
      "orientation": "horizontal",
      "style": "IPY_MODEL_89587d6fe3cb44d0a36de6c4b259eef7",
      "value": 466
     }
    },
    "57282ab6fa424314ab2216f2599b67cc": {
     "model_module": "@jupyter-widgets/controls",
     "model_module_version": "1.5.0",
     "model_name": "DescriptionStyleModel",
     "state": {
      "_model_module": "@jupyter-widgets/controls",
      "_model_module_version": "1.5.0",
      "_model_name": "DescriptionStyleModel",
      "_view_count": null,
      "_view_module": "@jupyter-widgets/base",
      "_view_module_version": "1.2.0",
      "_view_name": "StyleView",
      "description_width": ""
     }
    },
    "5b3b868e78e041099eab18c2df69d6a5": {
     "model_module": "@jupyter-widgets/controls",
     "model_module_version": "1.5.0",
     "model_name": "FloatProgressModel",
     "state": {
      "_dom_classes": [],
      "_model_module": "@jupyter-widgets/controls",
      "_model_module_version": "1.5.0",
      "_model_name": "FloatProgressModel",
      "_view_count": null,
      "_view_module": "@jupyter-widgets/controls",
      "_view_module_version": "1.5.0",
      "_view_name": "ProgressView",
      "bar_style": "success",
      "description": "",
      "description_tooltip": null,
      "layout": "IPY_MODEL_3f2cea47d90f4519927ffce8d2f8433d",
      "max": 29,
      "min": 0,
      "orientation": "horizontal",
      "style": "IPY_MODEL_e0608cdb8eb74683ba4748797186783a",
      "value": 29
     }
    },
    "5d27a17a45ee4b10ac56afe0b90b4a29": {
     "model_module": "@jupyter-widgets/controls",
     "model_module_version": "1.5.0",
     "model_name": "DescriptionStyleModel",
     "state": {
      "_model_module": "@jupyter-widgets/controls",
      "_model_module_version": "1.5.0",
      "_model_name": "DescriptionStyleModel",
      "_view_count": null,
      "_view_module": "@jupyter-widgets/base",
      "_view_module_version": "1.2.0",
      "_view_name": "StyleView",
      "description_width": ""
     }
    },
    "6314d3d241684a999baab54b1a252394": {
     "model_module": "@jupyter-widgets/controls",
     "model_module_version": "1.5.0",
     "model_name": "HBoxModel",
     "state": {
      "_dom_classes": [],
      "_model_module": "@jupyter-widgets/controls",
      "_model_module_version": "1.5.0",
      "_model_name": "HBoxModel",
      "_view_count": null,
      "_view_module": "@jupyter-widgets/controls",
      "_view_module_version": "1.5.0",
      "_view_name": "HBoxView",
      "box_style": "",
      "children": [
       "IPY_MODEL_8e98de38bc3c4402961df637deea0f65",
       "IPY_MODEL_8951f557bfe141b0bcf482d3430ad633",
       "IPY_MODEL_dcfbbc90049047eda68ac50fbf3b33a6"
      ],
      "layout": "IPY_MODEL_9efb513058f44b30b63e4000d61d8639"
     }
    },
    "671c29c6a8f548b09b9d9063322ba171": {
     "model_module": "@jupyter-widgets/base",
     "model_module_version": "1.2.0",
     "model_name": "LayoutModel",
     "state": {
      "_model_module": "@jupyter-widgets/base",
      "_model_module_version": "1.2.0",
      "_model_name": "LayoutModel",
      "_view_count": null,
      "_view_module": "@jupyter-widgets/base",
      "_view_module_version": "1.2.0",
      "_view_name": "LayoutView",
      "align_content": null,
      "align_items": null,
      "align_self": null,
      "border": null,
      "bottom": null,
      "display": null,
      "flex": null,
      "flex_flow": null,
      "grid_area": null,
      "grid_auto_columns": null,
      "grid_auto_flow": null,
      "grid_auto_rows": null,
      "grid_column": null,
      "grid_gap": null,
      "grid_row": null,
      "grid_template_areas": null,
      "grid_template_columns": null,
      "grid_template_rows": null,
      "height": null,
      "justify_content": null,
      "justify_items": null,
      "left": null,
      "margin": null,
      "max_height": null,
      "max_width": null,
      "min_height": null,
      "min_width": null,
      "object_fit": null,
      "object_position": null,
      "order": null,
      "overflow": null,
      "overflow_x": null,
      "overflow_y": null,
      "padding": null,
      "right": null,
      "top": null,
      "visibility": null,
      "width": null
     }
    },
    "6c93c15a51dd4050a152b607d51d9d09": {
     "model_module": "@jupyter-widgets/base",
     "model_module_version": "1.2.0",
     "model_name": "LayoutModel",
     "state": {
      "_model_module": "@jupyter-widgets/base",
      "_model_module_version": "1.2.0",
      "_model_name": "LayoutModel",
      "_view_count": null,
      "_view_module": "@jupyter-widgets/base",
      "_view_module_version": "1.2.0",
      "_view_name": "LayoutView",
      "align_content": null,
      "align_items": null,
      "align_self": null,
      "border": null,
      "bottom": null,
      "display": null,
      "flex": null,
      "flex_flow": null,
      "grid_area": null,
      "grid_auto_columns": null,
      "grid_auto_flow": null,
      "grid_auto_rows": null,
      "grid_column": null,
      "grid_gap": null,
      "grid_row": null,
      "grid_template_areas": null,
      "grid_template_columns": null,
      "grid_template_rows": null,
      "height": null,
      "justify_content": null,
      "justify_items": null,
      "left": null,
      "margin": null,
      "max_height": null,
      "max_width": null,
      "min_height": null,
      "min_width": null,
      "object_fit": null,
      "object_position": null,
      "order": null,
      "overflow": null,
      "overflow_x": null,
      "overflow_y": null,
      "padding": null,
      "right": null,
      "top": null,
      "visibility": null,
      "width": null
     }
    },
    "70c18ba08e394349beea8f99c844c1b5": {
     "model_module": "@jupyter-widgets/controls",
     "model_module_version": "1.5.0",
     "model_name": "DescriptionStyleModel",
     "state": {
      "_model_module": "@jupyter-widgets/controls",
      "_model_module_version": "1.5.0",
      "_model_name": "DescriptionStyleModel",
      "_view_count": null,
      "_view_module": "@jupyter-widgets/base",
      "_view_module_version": "1.2.0",
      "_view_name": "StyleView",
      "description_width": ""
     }
    },
    "70f2ca37e80941b881915f2d52e628e4": {
     "model_module": "@jupyter-widgets/controls",
     "model_module_version": "1.5.0",
     "model_name": "HBoxModel",
     "state": {
      "_dom_classes": [],
      "_model_module": "@jupyter-widgets/controls",
      "_model_module_version": "1.5.0",
      "_model_name": "HBoxModel",
      "_view_count": null,
      "_view_module": "@jupyter-widgets/controls",
      "_view_module_version": "1.5.0",
      "_view_name": "HBoxView",
      "box_style": "",
      "children": [
       "IPY_MODEL_315068fdd93844d6b8282742a0c76a60",
       "IPY_MODEL_5b3b868e78e041099eab18c2df69d6a5",
       "IPY_MODEL_1fbde35437624a31a6cd2ebce49b3fa1"
      ],
      "layout": "IPY_MODEL_d88d0f1d1d3244b092ee7300d3f3ebf9"
     }
    },
    "72ddf6512c5f46038e68a343b3cff8f3": {
     "model_module": "@jupyter-widgets/base",
     "model_module_version": "1.2.0",
     "model_name": "LayoutModel",
     "state": {
      "_model_module": "@jupyter-widgets/base",
      "_model_module_version": "1.2.0",
      "_model_name": "LayoutModel",
      "_view_count": null,
      "_view_module": "@jupyter-widgets/base",
      "_view_module_version": "1.2.0",
      "_view_name": "LayoutView",
      "align_content": null,
      "align_items": null,
      "align_self": null,
      "border": null,
      "bottom": null,
      "display": null,
      "flex": null,
      "flex_flow": null,
      "grid_area": null,
      "grid_auto_columns": null,
      "grid_auto_flow": null,
      "grid_auto_rows": null,
      "grid_column": null,
      "grid_gap": null,
      "grid_row": null,
      "grid_template_areas": null,
      "grid_template_columns": null,
      "grid_template_rows": null,
      "height": null,
      "justify_content": null,
      "justify_items": null,
      "left": null,
      "margin": null,
      "max_height": null,
      "max_width": null,
      "min_height": null,
      "min_width": null,
      "object_fit": null,
      "object_position": null,
      "order": null,
      "overflow": null,
      "overflow_x": null,
      "overflow_y": null,
      "padding": null,
      "right": null,
      "top": null,
      "visibility": null,
      "width": null
     }
    },
    "812d5ec831b846358ec448b20c85e436": {
     "model_module": "@jupyter-widgets/controls",
     "model_module_version": "1.5.0",
     "model_name": "HBoxModel",
     "state": {
      "_dom_classes": [],
      "_model_module": "@jupyter-widgets/controls",
      "_model_module_version": "1.5.0",
      "_model_name": "HBoxModel",
      "_view_count": null,
      "_view_module": "@jupyter-widgets/controls",
      "_view_module_version": "1.5.0",
      "_view_name": "HBoxView",
      "box_style": "",
      "children": [
       "IPY_MODEL_f863d147af2543f09115d96e11e9c5c9",
       "IPY_MODEL_252efd156f764346908e1b2ce9578425",
       "IPY_MODEL_c816e011ec184dbfaa6a9499f8661c7d"
      ],
      "layout": "IPY_MODEL_8cc29f8310574d9b83cc6bb8ab6e382f"
     }
    },
    "833489e888404c79866f1d043f419b89": {
     "model_module": "@jupyter-widgets/controls",
     "model_module_version": "1.5.0",
     "model_name": "HBoxModel",
     "state": {
      "_dom_classes": [],
      "_model_module": "@jupyter-widgets/controls",
      "_model_module_version": "1.5.0",
      "_model_name": "HBoxModel",
      "_view_count": null,
      "_view_module": "@jupyter-widgets/controls",
      "_view_module_version": "1.5.0",
      "_view_name": "HBoxView",
      "box_style": "",
      "children": [
       "IPY_MODEL_23fa64296e4d4b83b750e135684fa81a",
       "IPY_MODEL_523471f5adcb487c84b480a12b2c6cfc",
       "IPY_MODEL_ebbf5205339546eca07268b9becb0955"
      ],
      "layout": "IPY_MODEL_eaab6cd42cc84539892717bb4776f668"
     }
    },
    "88319406bbae4e52aeb03ac4f1572051": {
     "model_module": "@jupyter-widgets/base",
     "model_module_version": "1.2.0",
     "model_name": "LayoutModel",
     "state": {
      "_model_module": "@jupyter-widgets/base",
      "_model_module_version": "1.2.0",
      "_model_name": "LayoutModel",
      "_view_count": null,
      "_view_module": "@jupyter-widgets/base",
      "_view_module_version": "1.2.0",
      "_view_name": "LayoutView",
      "align_content": null,
      "align_items": null,
      "align_self": null,
      "border": null,
      "bottom": null,
      "display": null,
      "flex": null,
      "flex_flow": null,
      "grid_area": null,
      "grid_auto_columns": null,
      "grid_auto_flow": null,
      "grid_auto_rows": null,
      "grid_column": null,
      "grid_gap": null,
      "grid_row": null,
      "grid_template_areas": null,
      "grid_template_columns": null,
      "grid_template_rows": null,
      "height": null,
      "justify_content": null,
      "justify_items": null,
      "left": null,
      "margin": null,
      "max_height": null,
      "max_width": null,
      "min_height": null,
      "min_width": null,
      "object_fit": null,
      "object_position": null,
      "order": null,
      "overflow": null,
      "overflow_x": null,
      "overflow_y": null,
      "padding": null,
      "right": null,
      "top": null,
      "visibility": null,
      "width": null
     }
    },
    "8951f557bfe141b0bcf482d3430ad633": {
     "model_module": "@jupyter-widgets/controls",
     "model_module_version": "1.5.0",
     "model_name": "FloatProgressModel",
     "state": {
      "_dom_classes": [],
      "_model_module": "@jupyter-widgets/controls",
      "_model_module_version": "1.5.0",
      "_model_name": "FloatProgressModel",
      "_view_count": null,
      "_view_module": "@jupyter-widgets/controls",
      "_view_module_version": "1.5.0",
      "_view_name": "ProgressView",
      "bar_style": "success",
      "description": "",
      "description_tooltip": null,
      "layout": "IPY_MODEL_bc52b3e427174c9296bcbb948337f5e2",
      "max": 995526,
      "min": 0,
      "orientation": "horizontal",
      "style": "IPY_MODEL_478dcbd7bd024cd3a0b8392e06b796b2",
      "value": 995526
     }
    },
    "89587d6fe3cb44d0a36de6c4b259eef7": {
     "model_module": "@jupyter-widgets/controls",
     "model_module_version": "1.5.0",
     "model_name": "ProgressStyleModel",
     "state": {
      "_model_module": "@jupyter-widgets/controls",
      "_model_module_version": "1.5.0",
      "_model_name": "ProgressStyleModel",
      "_view_count": null,
      "_view_module": "@jupyter-widgets/base",
      "_view_module_version": "1.2.0",
      "_view_name": "StyleView",
      "bar_color": null,
      "description_width": ""
     }
    },
    "8bd24ab57df843569c038b265d6d3bc0": {
     "model_module": "@jupyter-widgets/base",
     "model_module_version": "1.2.0",
     "model_name": "LayoutModel",
     "state": {
      "_model_module": "@jupyter-widgets/base",
      "_model_module_version": "1.2.0",
      "_model_name": "LayoutModel",
      "_view_count": null,
      "_view_module": "@jupyter-widgets/base",
      "_view_module_version": "1.2.0",
      "_view_name": "LayoutView",
      "align_content": null,
      "align_items": null,
      "align_self": null,
      "border": null,
      "bottom": null,
      "display": null,
      "flex": null,
      "flex_flow": null,
      "grid_area": null,
      "grid_auto_columns": null,
      "grid_auto_flow": null,
      "grid_auto_rows": null,
      "grid_column": null,
      "grid_gap": null,
      "grid_row": null,
      "grid_template_areas": null,
      "grid_template_columns": null,
      "grid_template_rows": null,
      "height": null,
      "justify_content": null,
      "justify_items": null,
      "left": null,
      "margin": null,
      "max_height": null,
      "max_width": null,
      "min_height": null,
      "min_width": null,
      "object_fit": null,
      "object_position": null,
      "order": null,
      "overflow": null,
      "overflow_x": null,
      "overflow_y": null,
      "padding": null,
      "right": null,
      "top": null,
      "visibility": null,
      "width": null
     }
    },
    "8cc29f8310574d9b83cc6bb8ab6e382f": {
     "model_module": "@jupyter-widgets/base",
     "model_module_version": "1.2.0",
     "model_name": "LayoutModel",
     "state": {
      "_model_module": "@jupyter-widgets/base",
      "_model_module_version": "1.2.0",
      "_model_name": "LayoutModel",
      "_view_count": null,
      "_view_module": "@jupyter-widgets/base",
      "_view_module_version": "1.2.0",
      "_view_name": "LayoutView",
      "align_content": null,
      "align_items": null,
      "align_self": null,
      "border": null,
      "bottom": null,
      "display": null,
      "flex": null,
      "flex_flow": null,
      "grid_area": null,
      "grid_auto_columns": null,
      "grid_auto_flow": null,
      "grid_auto_rows": null,
      "grid_column": null,
      "grid_gap": null,
      "grid_row": null,
      "grid_template_areas": null,
      "grid_template_columns": null,
      "grid_template_rows": null,
      "height": null,
      "justify_content": null,
      "justify_items": null,
      "left": null,
      "margin": null,
      "max_height": null,
      "max_width": null,
      "min_height": null,
      "min_width": null,
      "object_fit": null,
      "object_position": null,
      "order": null,
      "overflow": null,
      "overflow_x": null,
      "overflow_y": null,
      "padding": null,
      "right": null,
      "top": null,
      "visibility": null,
      "width": null
     }
    },
    "8e98de38bc3c4402961df637deea0f65": {
     "model_module": "@jupyter-widgets/controls",
     "model_module_version": "1.5.0",
     "model_name": "HTMLModel",
     "state": {
      "_dom_classes": [],
      "_model_module": "@jupyter-widgets/controls",
      "_model_module_version": "1.5.0",
      "_model_name": "HTMLModel",
      "_view_count": null,
      "_view_module": "@jupyter-widgets/controls",
      "_view_module_version": "1.5.0",
      "_view_name": "HTMLView",
      "description": "",
      "description_tooltip": null,
      "layout": "IPY_MODEL_88319406bbae4e52aeb03ac4f1572051",
      "placeholder": "​",
      "style": "IPY_MODEL_321773d15718404aa575bbc1cecfa283",
      "value": "Downloading: 100%"
     }
    },
    "98084d93ef094361b9f98c641a58422f": {
     "model_module": "@jupyter-widgets/controls",
     "model_module_version": "1.5.0",
     "model_name": "HBoxModel",
     "state": {
      "_dom_classes": [],
      "_model_module": "@jupyter-widgets/controls",
      "_model_module_version": "1.5.0",
      "_model_name": "HBoxModel",
      "_view_count": null,
      "_view_module": "@jupyter-widgets/controls",
      "_view_module_version": "1.5.0",
      "_view_name": "HBoxView",
      "box_style": "",
      "children": [
       "IPY_MODEL_e4c5d1a9d34841178e8478191ff38364",
       "IPY_MODEL_0df8cea9dd524ce2983147e49b81a68b",
       "IPY_MODEL_f066e898a37c47aba8f09fe3f17302fa"
      ],
      "layout": "IPY_MODEL_d2286f72b11e451db3d3fd552c54c73f"
     }
    },
    "9efb513058f44b30b63e4000d61d8639": {
     "model_module": "@jupyter-widgets/base",
     "model_module_version": "1.2.0",
     "model_name": "LayoutModel",
     "state": {
      "_model_module": "@jupyter-widgets/base",
      "_model_module_version": "1.2.0",
      "_model_name": "LayoutModel",
      "_view_count": null,
      "_view_module": "@jupyter-widgets/base",
      "_view_module_version": "1.2.0",
      "_view_name": "LayoutView",
      "align_content": null,
      "align_items": null,
      "align_self": null,
      "border": null,
      "bottom": null,
      "display": null,
      "flex": null,
      "flex_flow": null,
      "grid_area": null,
      "grid_auto_columns": null,
      "grid_auto_flow": null,
      "grid_auto_rows": null,
      "grid_column": null,
      "grid_gap": null,
      "grid_row": null,
      "grid_template_areas": null,
      "grid_template_columns": null,
      "grid_template_rows": null,
      "height": null,
      "justify_content": null,
      "justify_items": null,
      "left": null,
      "margin": null,
      "max_height": null,
      "max_width": null,
      "min_height": null,
      "min_width": null,
      "object_fit": null,
      "object_position": null,
      "order": null,
      "overflow": null,
      "overflow_x": null,
      "overflow_y": null,
      "padding": null,
      "right": null,
      "top": null,
      "visibility": null,
      "width": null
     }
    },
    "a21f4616cee941f9a4bd8d95e6ae2302": {
     "model_module": "@jupyter-widgets/base",
     "model_module_version": "1.2.0",
     "model_name": "LayoutModel",
     "state": {
      "_model_module": "@jupyter-widgets/base",
      "_model_module_version": "1.2.0",
      "_model_name": "LayoutModel",
      "_view_count": null,
      "_view_module": "@jupyter-widgets/base",
      "_view_module_version": "1.2.0",
      "_view_name": "LayoutView",
      "align_content": null,
      "align_items": null,
      "align_self": null,
      "border": null,
      "bottom": null,
      "display": null,
      "flex": null,
      "flex_flow": null,
      "grid_area": null,
      "grid_auto_columns": null,
      "grid_auto_flow": null,
      "grid_auto_rows": null,
      "grid_column": null,
      "grid_gap": null,
      "grid_row": null,
      "grid_template_areas": null,
      "grid_template_columns": null,
      "grid_template_rows": null,
      "height": null,
      "justify_content": null,
      "justify_items": null,
      "left": null,
      "margin": null,
      "max_height": null,
      "max_width": null,
      "min_height": null,
      "min_width": null,
      "object_fit": null,
      "object_position": null,
      "order": null,
      "overflow": null,
      "overflow_x": null,
      "overflow_y": null,
      "padding": null,
      "right": null,
      "top": null,
      "visibility": null,
      "width": null
     }
    },
    "a61922d44ee64efba1b5c4ab7937503c": {
     "model_module": "@jupyter-widgets/base",
     "model_module_version": "1.2.0",
     "model_name": "LayoutModel",
     "state": {
      "_model_module": "@jupyter-widgets/base",
      "_model_module_version": "1.2.0",
      "_model_name": "LayoutModel",
      "_view_count": null,
      "_view_module": "@jupyter-widgets/base",
      "_view_module_version": "1.2.0",
      "_view_name": "LayoutView",
      "align_content": null,
      "align_items": null,
      "align_self": null,
      "border": null,
      "bottom": null,
      "display": null,
      "flex": null,
      "flex_flow": null,
      "grid_area": null,
      "grid_auto_columns": null,
      "grid_auto_flow": null,
      "grid_auto_rows": null,
      "grid_column": null,
      "grid_gap": null,
      "grid_row": null,
      "grid_template_areas": null,
      "grid_template_columns": null,
      "grid_template_rows": null,
      "height": null,
      "justify_content": null,
      "justify_items": null,
      "left": null,
      "margin": null,
      "max_height": null,
      "max_width": null,
      "min_height": null,
      "min_width": null,
      "object_fit": null,
      "object_position": null,
      "order": null,
      "overflow": null,
      "overflow_x": null,
      "overflow_y": null,
      "padding": null,
      "right": null,
      "top": null,
      "visibility": null,
      "width": null
     }
    },
    "af2a7d50a2ac42e6ab1a32b8a48dcfb0": {
     "model_module": "@jupyter-widgets/base",
     "model_module_version": "1.2.0",
     "model_name": "LayoutModel",
     "state": {
      "_model_module": "@jupyter-widgets/base",
      "_model_module_version": "1.2.0",
      "_model_name": "LayoutModel",
      "_view_count": null,
      "_view_module": "@jupyter-widgets/base",
      "_view_module_version": "1.2.0",
      "_view_name": "LayoutView",
      "align_content": null,
      "align_items": null,
      "align_self": null,
      "border": null,
      "bottom": null,
      "display": null,
      "flex": null,
      "flex_flow": null,
      "grid_area": null,
      "grid_auto_columns": null,
      "grid_auto_flow": null,
      "grid_auto_rows": null,
      "grid_column": null,
      "grid_gap": null,
      "grid_row": null,
      "grid_template_areas": null,
      "grid_template_columns": null,
      "grid_template_rows": null,
      "height": null,
      "justify_content": null,
      "justify_items": null,
      "left": null,
      "margin": null,
      "max_height": null,
      "max_width": null,
      "min_height": null,
      "min_width": null,
      "object_fit": null,
      "object_position": null,
      "order": null,
      "overflow": null,
      "overflow_x": null,
      "overflow_y": null,
      "padding": null,
      "right": null,
      "top": null,
      "visibility": null,
      "width": null
     }
    },
    "af79c015daea44a494b5930dc7e34457": {
     "model_module": "@jupyter-widgets/base",
     "model_module_version": "1.2.0",
     "model_name": "LayoutModel",
     "state": {
      "_model_module": "@jupyter-widgets/base",
      "_model_module_version": "1.2.0",
      "_model_name": "LayoutModel",
      "_view_count": null,
      "_view_module": "@jupyter-widgets/base",
      "_view_module_version": "1.2.0",
      "_view_name": "LayoutView",
      "align_content": null,
      "align_items": null,
      "align_self": null,
      "border": null,
      "bottom": null,
      "display": null,
      "flex": null,
      "flex_flow": null,
      "grid_area": null,
      "grid_auto_columns": null,
      "grid_auto_flow": null,
      "grid_auto_rows": null,
      "grid_column": null,
      "grid_gap": null,
      "grid_row": null,
      "grid_template_areas": null,
      "grid_template_columns": null,
      "grid_template_rows": null,
      "height": null,
      "justify_content": null,
      "justify_items": null,
      "left": null,
      "margin": null,
      "max_height": null,
      "max_width": null,
      "min_height": null,
      "min_width": null,
      "object_fit": null,
      "object_position": null,
      "order": null,
      "overflow": null,
      "overflow_x": null,
      "overflow_y": null,
      "padding": null,
      "right": null,
      "top": null,
      "visibility": null,
      "width": null
     }
    },
    "bc52b3e427174c9296bcbb948337f5e2": {
     "model_module": "@jupyter-widgets/base",
     "model_module_version": "1.2.0",
     "model_name": "LayoutModel",
     "state": {
      "_model_module": "@jupyter-widgets/base",
      "_model_module_version": "1.2.0",
      "_model_name": "LayoutModel",
      "_view_count": null,
      "_view_module": "@jupyter-widgets/base",
      "_view_module_version": "1.2.0",
      "_view_name": "LayoutView",
      "align_content": null,
      "align_items": null,
      "align_self": null,
      "border": null,
      "bottom": null,
      "display": null,
      "flex": null,
      "flex_flow": null,
      "grid_area": null,
      "grid_auto_columns": null,
      "grid_auto_flow": null,
      "grid_auto_rows": null,
      "grid_column": null,
      "grid_gap": null,
      "grid_row": null,
      "grid_template_areas": null,
      "grid_template_columns": null,
      "grid_template_rows": null,
      "height": null,
      "justify_content": null,
      "justify_items": null,
      "left": null,
      "margin": null,
      "max_height": null,
      "max_width": null,
      "min_height": null,
      "min_width": null,
      "object_fit": null,
      "object_position": null,
      "order": null,
      "overflow": null,
      "overflow_x": null,
      "overflow_y": null,
      "padding": null,
      "right": null,
      "top": null,
      "visibility": null,
      "width": null
     }
    },
    "c4890ed61a2b498abec6327b5ade2964": {
     "model_module": "@jupyter-widgets/controls",
     "model_module_version": "1.5.0",
     "model_name": "DescriptionStyleModel",
     "state": {
      "_model_module": "@jupyter-widgets/controls",
      "_model_module_version": "1.5.0",
      "_model_name": "DescriptionStyleModel",
      "_view_count": null,
      "_view_module": "@jupyter-widgets/base",
      "_view_module_version": "1.2.0",
      "_view_name": "StyleView",
      "description_width": ""
     }
    },
    "c816e011ec184dbfaa6a9499f8661c7d": {
     "model_module": "@jupyter-widgets/controls",
     "model_module_version": "1.5.0",
     "model_name": "HTMLModel",
     "state": {
      "_dom_classes": [],
      "_model_module": "@jupyter-widgets/controls",
      "_model_module_version": "1.5.0",
      "_model_name": "HTMLModel",
      "_view_count": null,
      "_view_module": "@jupyter-widgets/controls",
      "_view_module_version": "1.5.0",
      "_view_name": "HTMLView",
      "description": "",
      "description_tooltip": null,
      "layout": "IPY_MODEL_10c534c1b3e441a99fe29832803dbf39",
      "placeholder": "​",
      "style": "IPY_MODEL_57282ab6fa424314ab2216f2599b67cc",
      "value": " 542M/542M [00:38&lt;00:00, 16.1MB/s]"
     }
    },
    "ca8bf3cc48b2435886c4006b30e9a6b1": {
     "model_module": "@jupyter-widgets/base",
     "model_module_version": "1.2.0",
     "model_name": "LayoutModel",
     "state": {
      "_model_module": "@jupyter-widgets/base",
      "_model_module_version": "1.2.0",
      "_model_name": "LayoutModel",
      "_view_count": null,
      "_view_module": "@jupyter-widgets/base",
      "_view_module_version": "1.2.0",
      "_view_name": "LayoutView",
      "align_content": null,
      "align_items": null,
      "align_self": null,
      "border": null,
      "bottom": null,
      "display": null,
      "flex": null,
      "flex_flow": null,
      "grid_area": null,
      "grid_auto_columns": null,
      "grid_auto_flow": null,
      "grid_auto_rows": null,
      "grid_column": null,
      "grid_gap": null,
      "grid_row": null,
      "grid_template_areas": null,
      "grid_template_columns": null,
      "grid_template_rows": null,
      "height": null,
      "justify_content": null,
      "justify_items": null,
      "left": null,
      "margin": null,
      "max_height": null,
      "max_width": null,
      "min_height": null,
      "min_width": null,
      "object_fit": null,
      "object_position": null,
      "order": null,
      "overflow": null,
      "overflow_x": null,
      "overflow_y": null,
      "padding": null,
      "right": null,
      "top": null,
      "visibility": null,
      "width": null
     }
    },
    "d2286f72b11e451db3d3fd552c54c73f": {
     "model_module": "@jupyter-widgets/base",
     "model_module_version": "1.2.0",
     "model_name": "LayoutModel",
     "state": {
      "_model_module": "@jupyter-widgets/base",
      "_model_module_version": "1.2.0",
      "_model_name": "LayoutModel",
      "_view_count": null,
      "_view_module": "@jupyter-widgets/base",
      "_view_module_version": "1.2.0",
      "_view_name": "LayoutView",
      "align_content": null,
      "align_items": null,
      "align_self": null,
      "border": null,
      "bottom": null,
      "display": null,
      "flex": null,
      "flex_flow": null,
      "grid_area": null,
      "grid_auto_columns": null,
      "grid_auto_flow": null,
      "grid_auto_rows": null,
      "grid_column": null,
      "grid_gap": null,
      "grid_row": null,
      "grid_template_areas": null,
      "grid_template_columns": null,
      "grid_template_rows": null,
      "height": null,
      "justify_content": null,
      "justify_items": null,
      "left": null,
      "margin": null,
      "max_height": null,
      "max_width": null,
      "min_height": null,
      "min_width": null,
      "object_fit": null,
      "object_position": null,
      "order": null,
      "overflow": null,
      "overflow_x": null,
      "overflow_y": null,
      "padding": null,
      "right": null,
      "top": null,
      "visibility": null,
      "width": null
     }
    },
    "d88d0f1d1d3244b092ee7300d3f3ebf9": {
     "model_module": "@jupyter-widgets/base",
     "model_module_version": "1.2.0",
     "model_name": "LayoutModel",
     "state": {
      "_model_module": "@jupyter-widgets/base",
      "_model_module_version": "1.2.0",
      "_model_name": "LayoutModel",
      "_view_count": null,
      "_view_module": "@jupyter-widgets/base",
      "_view_module_version": "1.2.0",
      "_view_name": "LayoutView",
      "align_content": null,
      "align_items": null,
      "align_self": null,
      "border": null,
      "bottom": null,
      "display": null,
      "flex": null,
      "flex_flow": null,
      "grid_area": null,
      "grid_auto_columns": null,
      "grid_auto_flow": null,
      "grid_auto_rows": null,
      "grid_column": null,
      "grid_gap": null,
      "grid_row": null,
      "grid_template_areas": null,
      "grid_template_columns": null,
      "grid_template_rows": null,
      "height": null,
      "justify_content": null,
      "justify_items": null,
      "left": null,
      "margin": null,
      "max_height": null,
      "max_width": null,
      "min_height": null,
      "min_width": null,
      "object_fit": null,
      "object_position": null,
      "order": null,
      "overflow": null,
      "overflow_x": null,
      "overflow_y": null,
      "padding": null,
      "right": null,
      "top": null,
      "visibility": null,
      "width": null
     }
    },
    "db4cfaff5dee4814ac3be1a8272db12c": {
     "model_module": "@jupyter-widgets/controls",
     "model_module_version": "1.5.0",
     "model_name": "DescriptionStyleModel",
     "state": {
      "_model_module": "@jupyter-widgets/controls",
      "_model_module_version": "1.5.0",
      "_model_name": "DescriptionStyleModel",
      "_view_count": null,
      "_view_module": "@jupyter-widgets/base",
      "_view_module_version": "1.2.0",
      "_view_name": "StyleView",
      "description_width": ""
     }
    },
    "dcfbbc90049047eda68ac50fbf3b33a6": {
     "model_module": "@jupyter-widgets/controls",
     "model_module_version": "1.5.0",
     "model_name": "HTMLModel",
     "state": {
      "_dom_classes": [],
      "_model_module": "@jupyter-widgets/controls",
      "_model_module_version": "1.5.0",
      "_model_name": "HTMLModel",
      "_view_count": null,
      "_view_module": "@jupyter-widgets/controls",
      "_view_module_version": "1.5.0",
      "_view_name": "HTMLView",
      "description": "",
      "description_tooltip": null,
      "layout": "IPY_MODEL_06487b0f05e44528a38a9b1af67f3f74",
      "placeholder": "​",
      "style": "IPY_MODEL_22032995e99941d7a69dedce13a75a22",
      "value": " 996k/996k [00:00&lt;00:00, 1.46MB/s]"
     }
    },
    "e0608cdb8eb74683ba4748797186783a": {
     "model_module": "@jupyter-widgets/controls",
     "model_module_version": "1.5.0",
     "model_name": "ProgressStyleModel",
     "state": {
      "_model_module": "@jupyter-widgets/controls",
      "_model_module_version": "1.5.0",
      "_model_name": "ProgressStyleModel",
      "_view_count": null,
      "_view_module": "@jupyter-widgets/base",
      "_view_module_version": "1.2.0",
      "_view_name": "StyleView",
      "bar_color": null,
      "description_width": ""
     }
    },
    "e4c5d1a9d34841178e8478191ff38364": {
     "model_module": "@jupyter-widgets/controls",
     "model_module_version": "1.5.0",
     "model_name": "HTMLModel",
     "state": {
      "_dom_classes": [],
      "_model_module": "@jupyter-widgets/controls",
      "_model_module_version": "1.5.0",
      "_model_name": "HTMLModel",
      "_view_count": null,
      "_view_module": "@jupyter-widgets/controls",
      "_view_module_version": "1.5.0",
      "_view_name": "HTMLView",
      "description": "",
      "description_tooltip": null,
      "layout": "IPY_MODEL_ea2c981b7d0240e5ba6d69f47a7687e2",
      "placeholder": "​",
      "style": "IPY_MODEL_f622d5bfd88147de8dc49b68479eb2f1",
      "value": "Downloading: 100%"
     }
    },
    "ea2c981b7d0240e5ba6d69f47a7687e2": {
     "model_module": "@jupyter-widgets/base",
     "model_module_version": "1.2.0",
     "model_name": "LayoutModel",
     "state": {
      "_model_module": "@jupyter-widgets/base",
      "_model_module_version": "1.2.0",
      "_model_name": "LayoutModel",
      "_view_count": null,
      "_view_module": "@jupyter-widgets/base",
      "_view_module_version": "1.2.0",
      "_view_name": "LayoutView",
      "align_content": null,
      "align_items": null,
      "align_self": null,
      "border": null,
      "bottom": null,
      "display": null,
      "flex": null,
      "flex_flow": null,
      "grid_area": null,
      "grid_auto_columns": null,
      "grid_auto_flow": null,
      "grid_auto_rows": null,
      "grid_column": null,
      "grid_gap": null,
      "grid_row": null,
      "grid_template_areas": null,
      "grid_template_columns": null,
      "grid_template_rows": null,
      "height": null,
      "justify_content": null,
      "justify_items": null,
      "left": null,
      "margin": null,
      "max_height": null,
      "max_width": null,
      "min_height": null,
      "min_width": null,
      "object_fit": null,
      "object_position": null,
      "order": null,
      "overflow": null,
      "overflow_x": null,
      "overflow_y": null,
      "padding": null,
      "right": null,
      "top": null,
      "visibility": null,
      "width": null
     }
    },
    "eaab6cd42cc84539892717bb4776f668": {
     "model_module": "@jupyter-widgets/base",
     "model_module_version": "1.2.0",
     "model_name": "LayoutModel",
     "state": {
      "_model_module": "@jupyter-widgets/base",
      "_model_module_version": "1.2.0",
      "_model_name": "LayoutModel",
      "_view_count": null,
      "_view_module": "@jupyter-widgets/base",
      "_view_module_version": "1.2.0",
      "_view_name": "LayoutView",
      "align_content": null,
      "align_items": null,
      "align_self": null,
      "border": null,
      "bottom": null,
      "display": null,
      "flex": null,
      "flex_flow": null,
      "grid_area": null,
      "grid_auto_columns": null,
      "grid_auto_flow": null,
      "grid_auto_rows": null,
      "grid_column": null,
      "grid_gap": null,
      "grid_row": null,
      "grid_template_areas": null,
      "grid_template_columns": null,
      "grid_template_rows": null,
      "height": null,
      "justify_content": null,
      "justify_items": null,
      "left": null,
      "margin": null,
      "max_height": null,
      "max_width": null,
      "min_height": null,
      "min_width": null,
      "object_fit": null,
      "object_position": null,
      "order": null,
      "overflow": null,
      "overflow_x": null,
      "overflow_y": null,
      "padding": null,
      "right": null,
      "top": null,
      "visibility": null,
      "width": null
     }
    },
    "ebbf5205339546eca07268b9becb0955": {
     "model_module": "@jupyter-widgets/controls",
     "model_module_version": "1.5.0",
     "model_name": "HTMLModel",
     "state": {
      "_dom_classes": [],
      "_model_module": "@jupyter-widgets/controls",
      "_model_module_version": "1.5.0",
      "_model_name": "HTMLModel",
      "_view_count": null,
      "_view_module": "@jupyter-widgets/controls",
      "_view_module_version": "1.5.0",
      "_view_name": "HTMLView",
      "description": "",
      "description_tooltip": null,
      "layout": "IPY_MODEL_671c29c6a8f548b09b9d9063322ba171",
      "placeholder": "​",
      "style": "IPY_MODEL_1bac5eacd3b648468b1b707a1863f45a",
      "value": " 466/466 [00:00&lt;00:00, 3.16kB/s]"
     }
    },
    "f066e898a37c47aba8f09fe3f17302fa": {
     "model_module": "@jupyter-widgets/controls",
     "model_module_version": "1.5.0",
     "model_name": "HTMLModel",
     "state": {
      "_dom_classes": [],
      "_model_module": "@jupyter-widgets/controls",
      "_model_module_version": "1.5.0",
      "_model_name": "HTMLModel",
      "_view_count": null,
      "_view_module": "@jupyter-widgets/controls",
      "_view_module_version": "1.5.0",
      "_view_name": "HTMLView",
      "description": "",
      "description_tooltip": null,
      "layout": "IPY_MODEL_8bd24ab57df843569c038b265d6d3bc0",
      "placeholder": "​",
      "style": "IPY_MODEL_1c9b907d473348319be362575e0a628a",
      "value": " 1.96M/1.96M [00:00&lt;00:00, 4.08MB/s]"
     }
    },
    "f622d5bfd88147de8dc49b68479eb2f1": {
     "model_module": "@jupyter-widgets/controls",
     "model_module_version": "1.5.0",
     "model_name": "DescriptionStyleModel",
     "state": {
      "_model_module": "@jupyter-widgets/controls",
      "_model_module_version": "1.5.0",
      "_model_name": "DescriptionStyleModel",
      "_view_count": null,
      "_view_module": "@jupyter-widgets/base",
      "_view_module_version": "1.2.0",
      "_view_name": "StyleView",
      "description_width": ""
     }
    },
    "f863d147af2543f09115d96e11e9c5c9": {
     "model_module": "@jupyter-widgets/controls",
     "model_module_version": "1.5.0",
     "model_name": "HTMLModel",
     "state": {
      "_dom_classes": [],
      "_model_module": "@jupyter-widgets/controls",
      "_model_module_version": "1.5.0",
      "_model_name": "HTMLModel",
      "_view_count": null,
      "_view_module": "@jupyter-widgets/controls",
      "_view_module_version": "1.5.0",
      "_view_name": "HTMLView",
      "description": "",
      "description_tooltip": null,
      "layout": "IPY_MODEL_a21f4616cee941f9a4bd8d95e6ae2302",
      "placeholder": "​",
      "style": "IPY_MODEL_5d27a17a45ee4b10ac56afe0b90b4a29",
      "value": "Downloading: 100%"
     }
    }
   }
  }
 },
 "nbformat": 4,
 "nbformat_minor": 5
}